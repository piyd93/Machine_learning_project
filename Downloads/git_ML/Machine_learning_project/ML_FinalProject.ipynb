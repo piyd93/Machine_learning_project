{
 "cells": [
  {
   "cell_type": "code",
   "execution_count": 1,
   "metadata": {},
   "outputs": [],
   "source": [
    "import numpy as np\n",
    "import pandas as pd\n",
    "from sklearn.model_selection import train_test_split\n",
    "from sklearn.metrics import roc_curve\n",
    "from sklearn.metrics import auc\n",
    "from sklearn.metrics import precision_recall_curve\n",
    "from sklearn.metrics import confusion_matrix"
   ]
  },
  {
   "cell_type": "markdown",
   "metadata": {},
   "source": [
    "# Dataset"
   ]
  },
  {
   "cell_type": "markdown",
   "metadata": {},
   "source": [
    "The dataset consists of 36 clinical and biological features of 265 Caucasians who were diagnoised with Chronic Lymphocytic Leukemia"
   ]
  },
  {
   "cell_type": "code",
   "execution_count": 2,
   "metadata": {},
   "outputs": [],
   "source": [
    "def load_csv():\n",
    "    \"\"\"\n",
    "    :return: a dataframe containing our X and Y values\n",
    "    \"\"\"\n",
    "    all_data = pd.read_excel('ALL_dataset.xlsx', index_col=0)\n",
    "#     del aml_data['DrawID']\n",
    "#     aml_data['caseflag'].replace({'Yes': 1, 'No': -1}, inplace=True)\n",
    "#     return aml_data\n",
    "    return all_data\n"
   ]
  },
  {
   "cell_type": "code",
   "execution_count": 3,
   "metadata": {},
   "outputs": [],
   "source": [
    "all_data = load_csv()"
   ]
  },
  {
   "cell_type": "code",
   "execution_count": 4,
   "metadata": {},
   "outputs": [
    {
     "data": {
      "text/html": [
       "<div>\n",
       "<style scoped>\n",
       "    .dataframe tbody tr th:only-of-type {\n",
       "        vertical-align: middle;\n",
       "    }\n",
       "\n",
       "    .dataframe tbody tr th {\n",
       "        vertical-align: top;\n",
       "    }\n",
       "\n",
       "    .dataframe thead th {\n",
       "        text-align: right;\n",
       "    }\n",
       "</style>\n",
       "<table border=\"1\" class=\"dataframe\">\n",
       "  <thead>\n",
       "    <tr style=\"text-align: right;\">\n",
       "      <th></th>\n",
       "      <th>Diagnosis date</th>\n",
       "      <th>Record date</th>\n",
       "      <th>Exitus date</th>\n",
       "      <th>TLC</th>\n",
       "      <th>T8C</th>\n",
       "      <th>NCC</th>\n",
       "      <th>MBC</th>\n",
       "      <th>CD38</th>\n",
       "      <th>AGE</th>\n",
       "      <th>SEX</th>\n",
       "      <th>...</th>\n",
       "      <th>ALB</th>\n",
       "      <th>IgG</th>\n",
       "      <th>IgA</th>\n",
       "      <th>IgM</th>\n",
       "      <th>B2M</th>\n",
       "      <th>ZAP_70</th>\n",
       "      <th>MP</th>\n",
       "      <th>Ctx</th>\n",
       "      <th>AID</th>\n",
       "      <th>Exitus</th>\n",
       "    </tr>\n",
       "    <tr>\n",
       "      <th>ID</th>\n",
       "      <th></th>\n",
       "      <th></th>\n",
       "      <th></th>\n",
       "      <th></th>\n",
       "      <th></th>\n",
       "      <th></th>\n",
       "      <th></th>\n",
       "      <th></th>\n",
       "      <th></th>\n",
       "      <th></th>\n",
       "      <th></th>\n",
       "      <th></th>\n",
       "      <th></th>\n",
       "      <th></th>\n",
       "      <th></th>\n",
       "      <th></th>\n",
       "      <th></th>\n",
       "      <th></th>\n",
       "      <th></th>\n",
       "      <th></th>\n",
       "      <th></th>\n",
       "    </tr>\n",
       "  </thead>\n",
       "  <tbody>\n",
       "    <tr>\n",
       "      <th>1</th>\n",
       "      <td>2003-05-04</td>\n",
       "      <td>2008-08-01</td>\n",
       "      <td>NaT</td>\n",
       "      <td>1138.4</td>\n",
       "      <td>NaN</td>\n",
       "      <td>1280.7</td>\n",
       "      <td>11810.9</td>\n",
       "      <td>2.0</td>\n",
       "      <td>62</td>\n",
       "      <td>1</td>\n",
       "      <td>...</td>\n",
       "      <td>41.0</td>\n",
       "      <td>7.79</td>\n",
       "      <td>1.92</td>\n",
       "      <td>1.24</td>\n",
       "      <td>1.06</td>\n",
       "      <td>NaN</td>\n",
       "      <td>1.0</td>\n",
       "      <td>2.0</td>\n",
       "      <td>2.0</td>\n",
       "      <td>NaN</td>\n",
       "    </tr>\n",
       "    <tr>\n",
       "      <th>2</th>\n",
       "      <td>2002-11-02</td>\n",
       "      <td>2009-04-20</td>\n",
       "      <td>NaT</td>\n",
       "      <td>1562.5</td>\n",
       "      <td>312.5</td>\n",
       "      <td>937.5</td>\n",
       "      <td>3750.0</td>\n",
       "      <td>2.0</td>\n",
       "      <td>81</td>\n",
       "      <td>1</td>\n",
       "      <td>...</td>\n",
       "      <td>41.0</td>\n",
       "      <td>11.90</td>\n",
       "      <td>1.71</td>\n",
       "      <td>0.49</td>\n",
       "      <td>3.18</td>\n",
       "      <td>NaN</td>\n",
       "      <td>1.0</td>\n",
       "      <td>1.0</td>\n",
       "      <td>2.0</td>\n",
       "      <td>NaN</td>\n",
       "    </tr>\n",
       "    <tr>\n",
       "      <th>3</th>\n",
       "      <td>1997-02-24</td>\n",
       "      <td>2009-07-21</td>\n",
       "      <td>NaT</td>\n",
       "      <td>2717.0</td>\n",
       "      <td>1235.0</td>\n",
       "      <td>247.0</td>\n",
       "      <td>21736.0</td>\n",
       "      <td>2.0</td>\n",
       "      <td>50</td>\n",
       "      <td>1</td>\n",
       "      <td>...</td>\n",
       "      <td>43.0</td>\n",
       "      <td>9.46</td>\n",
       "      <td>1.32</td>\n",
       "      <td>0.49</td>\n",
       "      <td>2.00</td>\n",
       "      <td>0.27</td>\n",
       "      <td>2.0</td>\n",
       "      <td>1.0</td>\n",
       "      <td>2.0</td>\n",
       "      <td>NaN</td>\n",
       "    </tr>\n",
       "    <tr>\n",
       "      <th>4</th>\n",
       "      <td>2004-03-02</td>\n",
       "      <td>2009-05-05</td>\n",
       "      <td>NaT</td>\n",
       "      <td>2091.0</td>\n",
       "      <td>NaN</td>\n",
       "      <td>2509.2</td>\n",
       "      <td>16309.8</td>\n",
       "      <td>NaN</td>\n",
       "      <td>74</td>\n",
       "      <td>2</td>\n",
       "      <td>...</td>\n",
       "      <td>34.0</td>\n",
       "      <td>11.30</td>\n",
       "      <td>2.31</td>\n",
       "      <td>2.13</td>\n",
       "      <td>4.84</td>\n",
       "      <td>NaN</td>\n",
       "      <td>1.0</td>\n",
       "      <td>1.0</td>\n",
       "      <td>2.0</td>\n",
       "      <td>NaN</td>\n",
       "    </tr>\n",
       "    <tr>\n",
       "      <th>5</th>\n",
       "      <td>2006-12-04</td>\n",
       "      <td>2009-04-02</td>\n",
       "      <td>NaT</td>\n",
       "      <td>2175.6</td>\n",
       "      <td>777.0</td>\n",
       "      <td>932.4</td>\n",
       "      <td>27972.0</td>\n",
       "      <td>2.0</td>\n",
       "      <td>86</td>\n",
       "      <td>1</td>\n",
       "      <td>...</td>\n",
       "      <td>42.8</td>\n",
       "      <td>7.00</td>\n",
       "      <td>0.65</td>\n",
       "      <td>0.20</td>\n",
       "      <td>5.36</td>\n",
       "      <td>1.20</td>\n",
       "      <td>2.0</td>\n",
       "      <td>2.0</td>\n",
       "      <td>2.0</td>\n",
       "      <td>NaN</td>\n",
       "    </tr>\n",
       "    <tr>\n",
       "      <th>...</th>\n",
       "      <td>...</td>\n",
       "      <td>...</td>\n",
       "      <td>...</td>\n",
       "      <td>...</td>\n",
       "      <td>...</td>\n",
       "      <td>...</td>\n",
       "      <td>...</td>\n",
       "      <td>...</td>\n",
       "      <td>...</td>\n",
       "      <td>...</td>\n",
       "      <td>...</td>\n",
       "      <td>...</td>\n",
       "      <td>...</td>\n",
       "      <td>...</td>\n",
       "      <td>...</td>\n",
       "      <td>...</td>\n",
       "      <td>...</td>\n",
       "      <td>...</td>\n",
       "      <td>...</td>\n",
       "      <td>...</td>\n",
       "      <td>...</td>\n",
       "    </tr>\n",
       "    <tr>\n",
       "      <th>261</th>\n",
       "      <td>2002-08-13</td>\n",
       "      <td>2003-06-15</td>\n",
       "      <td>2003-06-15</td>\n",
       "      <td>782.6</td>\n",
       "      <td>301.0</td>\n",
       "      <td>842.8</td>\n",
       "      <td>4394.6</td>\n",
       "      <td>1.0</td>\n",
       "      <td>61</td>\n",
       "      <td>1</td>\n",
       "      <td>...</td>\n",
       "      <td>37.0</td>\n",
       "      <td>5.85</td>\n",
       "      <td>1.06</td>\n",
       "      <td>0.70</td>\n",
       "      <td>2.70</td>\n",
       "      <td>NaN</td>\n",
       "      <td>1.0</td>\n",
       "      <td>1.0</td>\n",
       "      <td>2.0</td>\n",
       "      <td>306.0</td>\n",
       "    </tr>\n",
       "    <tr>\n",
       "      <th>262</th>\n",
       "      <td>1997-10-08</td>\n",
       "      <td>2008-01-30</td>\n",
       "      <td>NaT</td>\n",
       "      <td>NaN</td>\n",
       "      <td>NaN</td>\n",
       "      <td>NaN</td>\n",
       "      <td>NaN</td>\n",
       "      <td>NaN</td>\n",
       "      <td>88</td>\n",
       "      <td>2</td>\n",
       "      <td>...</td>\n",
       "      <td>36.0</td>\n",
       "      <td>NaN</td>\n",
       "      <td>NaN</td>\n",
       "      <td>NaN</td>\n",
       "      <td>NaN</td>\n",
       "      <td>NaN</td>\n",
       "      <td>1.0</td>\n",
       "      <td>NaN</td>\n",
       "      <td>NaN</td>\n",
       "      <td>NaN</td>\n",
       "    </tr>\n",
       "    <tr>\n",
       "      <th>263</th>\n",
       "      <td>2001-01-08</td>\n",
       "      <td>2003-04-15</td>\n",
       "      <td>2003-04-15</td>\n",
       "      <td>1050.0</td>\n",
       "      <td>450.0</td>\n",
       "      <td>750.0</td>\n",
       "      <td>13200.0</td>\n",
       "      <td>2.0</td>\n",
       "      <td>79</td>\n",
       "      <td>1</td>\n",
       "      <td>...</td>\n",
       "      <td>36.0</td>\n",
       "      <td>13.90</td>\n",
       "      <td>1.37</td>\n",
       "      <td>0.43</td>\n",
       "      <td>2.40</td>\n",
       "      <td>NaN</td>\n",
       "      <td>2.0</td>\n",
       "      <td>2.0</td>\n",
       "      <td>2.0</td>\n",
       "      <td>827.0</td>\n",
       "    </tr>\n",
       "    <tr>\n",
       "      <th>264</th>\n",
       "      <td>2003-02-14</td>\n",
       "      <td>2003-03-13</td>\n",
       "      <td>2003-03-13</td>\n",
       "      <td>34.2</td>\n",
       "      <td>22.8</td>\n",
       "      <td>19.0</td>\n",
       "      <td>326.8</td>\n",
       "      <td>2.0</td>\n",
       "      <td>78</td>\n",
       "      <td>2</td>\n",
       "      <td>...</td>\n",
       "      <td>43.0</td>\n",
       "      <td>5.93</td>\n",
       "      <td>0.95</td>\n",
       "      <td>0.31</td>\n",
       "      <td>7.10</td>\n",
       "      <td>NaN</td>\n",
       "      <td>1.0</td>\n",
       "      <td>2.0</td>\n",
       "      <td>1.0</td>\n",
       "      <td>27.0</td>\n",
       "    </tr>\n",
       "    <tr>\n",
       "      <th>265</th>\n",
       "      <td>2004-07-06</td>\n",
       "      <td>2009-08-01</td>\n",
       "      <td>NaT</td>\n",
       "      <td>4743.7</td>\n",
       "      <td>1851.2</td>\n",
       "      <td>925.6</td>\n",
       "      <td>5900.7</td>\n",
       "      <td>1.0</td>\n",
       "      <td>82</td>\n",
       "      <td>2</td>\n",
       "      <td>...</td>\n",
       "      <td>41.9</td>\n",
       "      <td>7.31</td>\n",
       "      <td>1.06</td>\n",
       "      <td>1.00</td>\n",
       "      <td>2.29</td>\n",
       "      <td>NaN</td>\n",
       "      <td>1.0</td>\n",
       "      <td>1.0</td>\n",
       "      <td>2.0</td>\n",
       "      <td>NaN</td>\n",
       "    </tr>\n",
       "  </tbody>\n",
       "</table>\n",
       "<p>265 rows × 42 columns</p>\n",
       "</div>"
      ],
      "text/plain": [
       "    Diagnosis date Record date Exitus date     TLC     T8C     NCC      MBC  \\\n",
       "ID                                                                            \n",
       "1       2003-05-04  2008-08-01         NaT  1138.4     NaN  1280.7  11810.9   \n",
       "2       2002-11-02  2009-04-20         NaT  1562.5   312.5   937.5   3750.0   \n",
       "3       1997-02-24  2009-07-21         NaT  2717.0  1235.0   247.0  21736.0   \n",
       "4       2004-03-02  2009-05-05         NaT  2091.0     NaN  2509.2  16309.8   \n",
       "5       2006-12-04  2009-04-02         NaT  2175.6   777.0   932.4  27972.0   \n",
       "..             ...         ...         ...     ...     ...     ...      ...   \n",
       "261     2002-08-13  2003-06-15  2003-06-15   782.6   301.0   842.8   4394.6   \n",
       "262     1997-10-08  2008-01-30         NaT     NaN     NaN     NaN      NaN   \n",
       "263     2001-01-08  2003-04-15  2003-04-15  1050.0   450.0   750.0  13200.0   \n",
       "264     2003-02-14  2003-03-13  2003-03-13    34.2    22.8    19.0    326.8   \n",
       "265     2004-07-06  2009-08-01         NaT  4743.7  1851.2   925.6   5900.7   \n",
       "\n",
       "     CD38   AGE  SEX  ...   ALB    IgG   IgA   IgM   B2M  ZAP_70   MP  Ctx  \\\n",
       "ID                    ...                                                    \n",
       "1      2.0   62    1  ...  41.0   7.79  1.92  1.24  1.06     NaN  1.0  2.0   \n",
       "2      2.0   81    1  ...  41.0  11.90  1.71  0.49  3.18     NaN  1.0  1.0   \n",
       "3      2.0   50    1  ...  43.0   9.46  1.32  0.49  2.00    0.27  2.0  1.0   \n",
       "4      NaN   74    2  ...  34.0  11.30  2.31  2.13  4.84     NaN  1.0  1.0   \n",
       "5      2.0   86    1  ...  42.8   7.00  0.65  0.20  5.36    1.20  2.0  2.0   \n",
       "..     ...  ...  ...  ...   ...    ...   ...   ...   ...     ...  ...  ...   \n",
       "261    1.0   61    1  ...  37.0   5.85  1.06  0.70  2.70     NaN  1.0  1.0   \n",
       "262    NaN   88    2  ...  36.0    NaN   NaN   NaN   NaN     NaN  1.0  NaN   \n",
       "263    2.0   79    1  ...  36.0  13.90  1.37  0.43  2.40     NaN  2.0  2.0   \n",
       "264    2.0   78    2  ...  43.0   5.93  0.95  0.31  7.10     NaN  1.0  2.0   \n",
       "265    1.0   82    2  ...  41.9   7.31  1.06  1.00  2.29     NaN  1.0  1.0   \n",
       "\n",
       "     AID  Exitus  \n",
       "ID                \n",
       "1    2.0     NaN  \n",
       "2    2.0     NaN  \n",
       "3    2.0     NaN  \n",
       "4    2.0     NaN  \n",
       "5    2.0     NaN  \n",
       "..   ...     ...  \n",
       "261  2.0   306.0  \n",
       "262  NaN     NaN  \n",
       "263  2.0   827.0  \n",
       "264  1.0    27.0  \n",
       "265  2.0     NaN  \n",
       "\n",
       "[265 rows x 42 columns]"
      ]
     },
     "execution_count": 4,
     "metadata": {},
     "output_type": "execute_result"
    }
   ],
   "source": [
    "all_data"
   ]
  },
  {
   "cell_type": "code",
   "execution_count": 5,
   "metadata": {},
   "outputs": [],
   "source": [
    "#all_data[all_data['Diagnosis date'].notnull() & (all_data['Record date'].notnull())]\n",
    "idx= all_data[(all_data['Exitus'].isna())]\n",
    "# df_test['Difference'] = df_test['Difference'] / np.timedelta64(1, 'D')"
   ]
  },
  {
   "cell_type": "code",
   "execution_count": 6,
   "metadata": {},
   "outputs": [
    {
     "name": "stderr",
     "output_type": "stream",
     "text": [
      "C:\\Users\\installations\\lib\\site-packages\\ipykernel_launcher.py:1: SettingWithCopyWarning: \n",
      "A value is trying to be set on a copy of a slice from a DataFrame.\n",
      "Try using .loc[row_indexer,col_indexer] = value instead\n",
      "\n",
      "See the caveats in the documentation: https://pandas.pydata.org/pandas-docs/stable/user_guide/indexing.html#returning-a-view-versus-a-copy\n",
      "  \"\"\"Entry point for launching an IPython kernel.\n"
     ]
    }
   ],
   "source": [
    "idx['Difference'] = (idx['Record date'] - idx['Diagnosis date'])"
   ]
  },
  {
   "cell_type": "code",
   "execution_count": 7,
   "metadata": {},
   "outputs": [
    {
     "data": {
      "text/html": [
       "<div>\n",
       "<style scoped>\n",
       "    .dataframe tbody tr th:only-of-type {\n",
       "        vertical-align: middle;\n",
       "    }\n",
       "\n",
       "    .dataframe tbody tr th {\n",
       "        vertical-align: top;\n",
       "    }\n",
       "\n",
       "    .dataframe thead th {\n",
       "        text-align: right;\n",
       "    }\n",
       "</style>\n",
       "<table border=\"1\" class=\"dataframe\">\n",
       "  <thead>\n",
       "    <tr style=\"text-align: right;\">\n",
       "      <th></th>\n",
       "      <th>Diagnosis date</th>\n",
       "      <th>Record date</th>\n",
       "      <th>Exitus date</th>\n",
       "      <th>TLC</th>\n",
       "      <th>T8C</th>\n",
       "      <th>NCC</th>\n",
       "      <th>MBC</th>\n",
       "      <th>CD38</th>\n",
       "      <th>AGE</th>\n",
       "      <th>SEX</th>\n",
       "      <th>...</th>\n",
       "      <th>IgG</th>\n",
       "      <th>IgA</th>\n",
       "      <th>IgM</th>\n",
       "      <th>B2M</th>\n",
       "      <th>ZAP_70</th>\n",
       "      <th>MP</th>\n",
       "      <th>Ctx</th>\n",
       "      <th>AID</th>\n",
       "      <th>Exitus</th>\n",
       "      <th>Difference</th>\n",
       "    </tr>\n",
       "    <tr>\n",
       "      <th>ID</th>\n",
       "      <th></th>\n",
       "      <th></th>\n",
       "      <th></th>\n",
       "      <th></th>\n",
       "      <th></th>\n",
       "      <th></th>\n",
       "      <th></th>\n",
       "      <th></th>\n",
       "      <th></th>\n",
       "      <th></th>\n",
       "      <th></th>\n",
       "      <th></th>\n",
       "      <th></th>\n",
       "      <th></th>\n",
       "      <th></th>\n",
       "      <th></th>\n",
       "      <th></th>\n",
       "      <th></th>\n",
       "      <th></th>\n",
       "      <th></th>\n",
       "      <th></th>\n",
       "    </tr>\n",
       "  </thead>\n",
       "  <tbody>\n",
       "    <tr>\n",
       "      <th>1</th>\n",
       "      <td>2003-05-04</td>\n",
       "      <td>2008-08-01</td>\n",
       "      <td>NaT</td>\n",
       "      <td>1138.4</td>\n",
       "      <td>NaN</td>\n",
       "      <td>1280.7</td>\n",
       "      <td>11810.9</td>\n",
       "      <td>2.0</td>\n",
       "      <td>62</td>\n",
       "      <td>1</td>\n",
       "      <td>...</td>\n",
       "      <td>7.79</td>\n",
       "      <td>1.92</td>\n",
       "      <td>1.24</td>\n",
       "      <td>1.06</td>\n",
       "      <td>NaN</td>\n",
       "      <td>1.0</td>\n",
       "      <td>2.0</td>\n",
       "      <td>2.0</td>\n",
       "      <td>NaN</td>\n",
       "      <td>1916 days</td>\n",
       "    </tr>\n",
       "    <tr>\n",
       "      <th>2</th>\n",
       "      <td>2002-11-02</td>\n",
       "      <td>2009-04-20</td>\n",
       "      <td>NaT</td>\n",
       "      <td>1562.5</td>\n",
       "      <td>312.5</td>\n",
       "      <td>937.5</td>\n",
       "      <td>3750.0</td>\n",
       "      <td>2.0</td>\n",
       "      <td>81</td>\n",
       "      <td>1</td>\n",
       "      <td>...</td>\n",
       "      <td>11.90</td>\n",
       "      <td>1.71</td>\n",
       "      <td>0.49</td>\n",
       "      <td>3.18</td>\n",
       "      <td>NaN</td>\n",
       "      <td>1.0</td>\n",
       "      <td>1.0</td>\n",
       "      <td>2.0</td>\n",
       "      <td>NaN</td>\n",
       "      <td>2361 days</td>\n",
       "    </tr>\n",
       "    <tr>\n",
       "      <th>3</th>\n",
       "      <td>1997-02-24</td>\n",
       "      <td>2009-07-21</td>\n",
       "      <td>NaT</td>\n",
       "      <td>2717.0</td>\n",
       "      <td>1235.0</td>\n",
       "      <td>247.0</td>\n",
       "      <td>21736.0</td>\n",
       "      <td>2.0</td>\n",
       "      <td>50</td>\n",
       "      <td>1</td>\n",
       "      <td>...</td>\n",
       "      <td>9.46</td>\n",
       "      <td>1.32</td>\n",
       "      <td>0.49</td>\n",
       "      <td>2.00</td>\n",
       "      <td>0.27</td>\n",
       "      <td>2.0</td>\n",
       "      <td>1.0</td>\n",
       "      <td>2.0</td>\n",
       "      <td>NaN</td>\n",
       "      <td>4530 days</td>\n",
       "    </tr>\n",
       "    <tr>\n",
       "      <th>4</th>\n",
       "      <td>2004-03-02</td>\n",
       "      <td>2009-05-05</td>\n",
       "      <td>NaT</td>\n",
       "      <td>2091.0</td>\n",
       "      <td>NaN</td>\n",
       "      <td>2509.2</td>\n",
       "      <td>16309.8</td>\n",
       "      <td>NaN</td>\n",
       "      <td>74</td>\n",
       "      <td>2</td>\n",
       "      <td>...</td>\n",
       "      <td>11.30</td>\n",
       "      <td>2.31</td>\n",
       "      <td>2.13</td>\n",
       "      <td>4.84</td>\n",
       "      <td>NaN</td>\n",
       "      <td>1.0</td>\n",
       "      <td>1.0</td>\n",
       "      <td>2.0</td>\n",
       "      <td>NaN</td>\n",
       "      <td>1890 days</td>\n",
       "    </tr>\n",
       "    <tr>\n",
       "      <th>5</th>\n",
       "      <td>2006-12-04</td>\n",
       "      <td>2009-04-02</td>\n",
       "      <td>NaT</td>\n",
       "      <td>2175.6</td>\n",
       "      <td>777.0</td>\n",
       "      <td>932.4</td>\n",
       "      <td>27972.0</td>\n",
       "      <td>2.0</td>\n",
       "      <td>86</td>\n",
       "      <td>1</td>\n",
       "      <td>...</td>\n",
       "      <td>7.00</td>\n",
       "      <td>0.65</td>\n",
       "      <td>0.20</td>\n",
       "      <td>5.36</td>\n",
       "      <td>1.20</td>\n",
       "      <td>2.0</td>\n",
       "      <td>2.0</td>\n",
       "      <td>2.0</td>\n",
       "      <td>NaN</td>\n",
       "      <td>850 days</td>\n",
       "    </tr>\n",
       "    <tr>\n",
       "      <th>...</th>\n",
       "      <td>...</td>\n",
       "      <td>...</td>\n",
       "      <td>...</td>\n",
       "      <td>...</td>\n",
       "      <td>...</td>\n",
       "      <td>...</td>\n",
       "      <td>...</td>\n",
       "      <td>...</td>\n",
       "      <td>...</td>\n",
       "      <td>...</td>\n",
       "      <td>...</td>\n",
       "      <td>...</td>\n",
       "      <td>...</td>\n",
       "      <td>...</td>\n",
       "      <td>...</td>\n",
       "      <td>...</td>\n",
       "      <td>...</td>\n",
       "      <td>...</td>\n",
       "      <td>...</td>\n",
       "      <td>...</td>\n",
       "      <td>...</td>\n",
       "    </tr>\n",
       "    <tr>\n",
       "      <th>246</th>\n",
       "      <td>2003-02-11</td>\n",
       "      <td>2009-01-21</td>\n",
       "      <td>NaT</td>\n",
       "      <td>1910.4</td>\n",
       "      <td>477.6</td>\n",
       "      <td>318.4</td>\n",
       "      <td>13691.2</td>\n",
       "      <td>2.0</td>\n",
       "      <td>68</td>\n",
       "      <td>2</td>\n",
       "      <td>...</td>\n",
       "      <td>6.78</td>\n",
       "      <td>0.64</td>\n",
       "      <td>0.78</td>\n",
       "      <td>NaN</td>\n",
       "      <td>NaN</td>\n",
       "      <td>1.0</td>\n",
       "      <td>NaN</td>\n",
       "      <td>2.0</td>\n",
       "      <td>NaN</td>\n",
       "      <td>2171 days</td>\n",
       "    </tr>\n",
       "    <tr>\n",
       "      <th>256</th>\n",
       "      <td>2007-05-14</td>\n",
       "      <td>2009-07-31</td>\n",
       "      <td>NaT</td>\n",
       "      <td>2796.8</td>\n",
       "      <td>1104.0</td>\n",
       "      <td>883.2</td>\n",
       "      <td>3680.0</td>\n",
       "      <td>2.0</td>\n",
       "      <td>77</td>\n",
       "      <td>2</td>\n",
       "      <td>...</td>\n",
       "      <td>8.47</td>\n",
       "      <td>0.85</td>\n",
       "      <td>0.59</td>\n",
       "      <td>3.08</td>\n",
       "      <td>3.00</td>\n",
       "      <td>1.0</td>\n",
       "      <td>2.0</td>\n",
       "      <td>2.0</td>\n",
       "      <td>NaN</td>\n",
       "      <td>809 days</td>\n",
       "    </tr>\n",
       "    <tr>\n",
       "      <th>260</th>\n",
       "      <td>2004-09-07</td>\n",
       "      <td>2009-03-10</td>\n",
       "      <td>NaT</td>\n",
       "      <td>4596.8</td>\n",
       "      <td>1825.2</td>\n",
       "      <td>676.0</td>\n",
       "      <td>1487.2</td>\n",
       "      <td>2.0</td>\n",
       "      <td>60</td>\n",
       "      <td>1</td>\n",
       "      <td>...</td>\n",
       "      <td>10.10</td>\n",
       "      <td>2.59</td>\n",
       "      <td>0.99</td>\n",
       "      <td>2.30</td>\n",
       "      <td>NaN</td>\n",
       "      <td>1.0</td>\n",
       "      <td>2.0</td>\n",
       "      <td>2.0</td>\n",
       "      <td>NaN</td>\n",
       "      <td>1645 days</td>\n",
       "    </tr>\n",
       "    <tr>\n",
       "      <th>262</th>\n",
       "      <td>1997-10-08</td>\n",
       "      <td>2008-01-30</td>\n",
       "      <td>NaT</td>\n",
       "      <td>NaN</td>\n",
       "      <td>NaN</td>\n",
       "      <td>NaN</td>\n",
       "      <td>NaN</td>\n",
       "      <td>NaN</td>\n",
       "      <td>88</td>\n",
       "      <td>2</td>\n",
       "      <td>...</td>\n",
       "      <td>NaN</td>\n",
       "      <td>NaN</td>\n",
       "      <td>NaN</td>\n",
       "      <td>NaN</td>\n",
       "      <td>NaN</td>\n",
       "      <td>1.0</td>\n",
       "      <td>NaN</td>\n",
       "      <td>NaN</td>\n",
       "      <td>NaN</td>\n",
       "      <td>3766 days</td>\n",
       "    </tr>\n",
       "    <tr>\n",
       "      <th>265</th>\n",
       "      <td>2004-07-06</td>\n",
       "      <td>2009-08-01</td>\n",
       "      <td>NaT</td>\n",
       "      <td>4743.7</td>\n",
       "      <td>1851.2</td>\n",
       "      <td>925.6</td>\n",
       "      <td>5900.7</td>\n",
       "      <td>1.0</td>\n",
       "      <td>82</td>\n",
       "      <td>2</td>\n",
       "      <td>...</td>\n",
       "      <td>7.31</td>\n",
       "      <td>1.06</td>\n",
       "      <td>1.00</td>\n",
       "      <td>2.29</td>\n",
       "      <td>NaN</td>\n",
       "      <td>1.0</td>\n",
       "      <td>1.0</td>\n",
       "      <td>2.0</td>\n",
       "      <td>NaN</td>\n",
       "      <td>1852 days</td>\n",
       "    </tr>\n",
       "  </tbody>\n",
       "</table>\n",
       "<p>179 rows × 43 columns</p>\n",
       "</div>"
      ],
      "text/plain": [
       "    Diagnosis date Record date Exitus date     TLC     T8C     NCC      MBC  \\\n",
       "ID                                                                            \n",
       "1       2003-05-04  2008-08-01         NaT  1138.4     NaN  1280.7  11810.9   \n",
       "2       2002-11-02  2009-04-20         NaT  1562.5   312.5   937.5   3750.0   \n",
       "3       1997-02-24  2009-07-21         NaT  2717.0  1235.0   247.0  21736.0   \n",
       "4       2004-03-02  2009-05-05         NaT  2091.0     NaN  2509.2  16309.8   \n",
       "5       2006-12-04  2009-04-02         NaT  2175.6   777.0   932.4  27972.0   \n",
       "..             ...         ...         ...     ...     ...     ...      ...   \n",
       "246     2003-02-11  2009-01-21         NaT  1910.4   477.6   318.4  13691.2   \n",
       "256     2007-05-14  2009-07-31         NaT  2796.8  1104.0   883.2   3680.0   \n",
       "260     2004-09-07  2009-03-10         NaT  4596.8  1825.2   676.0   1487.2   \n",
       "262     1997-10-08  2008-01-30         NaT     NaN     NaN     NaN      NaN   \n",
       "265     2004-07-06  2009-08-01         NaT  4743.7  1851.2   925.6   5900.7   \n",
       "\n",
       "     CD38   AGE  SEX  ...    IgG   IgA   IgM   B2M  ZAP_70   MP  Ctx  AID  \\\n",
       "ID                    ...                                                   \n",
       "1      2.0   62    1  ...   7.79  1.92  1.24  1.06     NaN  1.0  2.0  2.0   \n",
       "2      2.0   81    1  ...  11.90  1.71  0.49  3.18     NaN  1.0  1.0  2.0   \n",
       "3      2.0   50    1  ...   9.46  1.32  0.49  2.00    0.27  2.0  1.0  2.0   \n",
       "4      NaN   74    2  ...  11.30  2.31  2.13  4.84     NaN  1.0  1.0  2.0   \n",
       "5      2.0   86    1  ...   7.00  0.65  0.20  5.36    1.20  2.0  2.0  2.0   \n",
       "..     ...  ...  ...  ...    ...   ...   ...   ...     ...  ...  ...  ...   \n",
       "246    2.0   68    2  ...   6.78  0.64  0.78   NaN     NaN  1.0  NaN  2.0   \n",
       "256    2.0   77    2  ...   8.47  0.85  0.59  3.08    3.00  1.0  2.0  2.0   \n",
       "260    2.0   60    1  ...  10.10  2.59  0.99  2.30     NaN  1.0  2.0  2.0   \n",
       "262    NaN   88    2  ...    NaN   NaN   NaN   NaN     NaN  1.0  NaN  NaN   \n",
       "265    1.0   82    2  ...   7.31  1.06  1.00  2.29     NaN  1.0  1.0  2.0   \n",
       "\n",
       "     Exitus  Difference  \n",
       "ID                       \n",
       "1       NaN   1916 days  \n",
       "2       NaN   2361 days  \n",
       "3       NaN   4530 days  \n",
       "4       NaN   1890 days  \n",
       "5       NaN    850 days  \n",
       "..      ...         ...  \n",
       "246     NaN   2171 days  \n",
       "256     NaN    809 days  \n",
       "260     NaN   1645 days  \n",
       "262     NaN   3766 days  \n",
       "265     NaN   1852 days  \n",
       "\n",
       "[179 rows x 43 columns]"
      ]
     },
     "execution_count": 7,
     "metadata": {},
     "output_type": "execute_result"
    }
   ],
   "source": [
    "idx"
   ]
  },
  {
   "cell_type": "code",
   "execution_count": 8,
   "metadata": {},
   "outputs": [],
   "source": [
    "idx.columns = idx.columns.str.strip()"
   ]
  },
  {
   "cell_type": "code",
   "execution_count": 9,
   "metadata": {},
   "outputs": [
    {
     "name": "stdout",
     "output_type": "stream",
     "text": [
      "[1, 0, 1, 1, 1, 0, 1, 1, 1, 1, 1, 0, 0, 0, 1, 1, 1, 1, 1, 1, 1, 0, 0, 1, 1, 0, 0, 0, 0, 0, 1, 0, 0, 1, 1, 1, 1, 1, 0, 0, 0, 0, 1, 0, 1, 1, 0, 0, 0, 1, 1, 0, 0, 0, 1, 1, 0, 0, 1, 0, 1, 0, 1, 1, 1, 1, 1, 0, 1, 1, 1, 0, 0, 0, 1, 0, 0, 0, 0, 0, 0, 0, 1, 0, 1, 0, 1, 0, 1, 1, -1, 0, 1, 0, 1, 0, 0, 1, 0, -1, 1, 1, -1, 0, 1, 1, 0, 1, 1, 1, 0, 0, 1, 1, 1, 0, -1, -1, 1, 0, 1, 0, 0, 0, 0, 0, 1, 0, 0, 0, 0, 1, 0, 0, 1, 0, 0, 0, 1, 0, 1, 1, 1, -1, 1, 1, 0, 0, 1, 0, 0, 1, 0, 0, 0, 0, 1, 1, 1, 1, 1, 0, 1, 1, 1, 1, 0, 1, 1, 0, 1, 1, 0, 1, 1, 0, 0, 1, 1]\n",
      "[18240, 10280, 32020, 25880, 39120, 13070, 16120, 15430, 37070, 44320, 230890, 13960, 10310, 14190, 93210, 16990, 16520, 19680, 108700, 16500, 47850, 13350, 14190, 17930, 16720, 10600, 15320, 14540, 12870, 10590, 19450, 13500, 10510, 122700, 20970, 16750, 27780, 18540, 9710, 15090, 8060, 14320, 17810, 12360, 16780, 21200, 11280, 14620, 13290, 43640, 54300, 11230, 13670, 14330, 16140, 17730, 12000, 12580, 45660, 12100, 19580, 9320, 41430, 21000, 27080, 21700, 55380, 10270, 40660, 134000, 27390, 10850, 11470, 11820, 17860, 12600, 10430, 8120, 11860, 13380, 13190, 10770, 20040, 12940, 16030, 13180, 21500, 12790, 19700, 30170, 2840, 11630, 204980, 15320, 25370, 9710, 11200, 15760, 9480, 5290, 22580, 20400, 5550, 13500, 21240, 15910, 12860, 19730, 58820, 20950, 11950, 13420, 22440, 15960, 49920, 9620, 2300, 6120, 16790, 10980, 31340, 13660, 9610, 13240, 13200, 12450, 19210, 13970, 14090, 9530, 9840, 18580, 9400, 8510, 30590, 12350, 10690, 13320, 38700, 10820, 65310, 16100, 23550, 7600, 20510, 24150, 12620, 10180, 19480, 13650, 10600, 52290, 10090, 11140, 9370, 11790, 44840, 32570, 17280, 23580, 21570, 12100, 15900, 20700, 16780, 18650, 10570, 24400, 19120, 12900, 16730, 15490, 12700, 19060, 25930, 12110, 13340, 31670, 16880]\n"
     ]
    }
   ],
   "source": [
    "idx#performed Nan check for exitus since we need to find time later for Exitus Nan values\n",
    "wbc_list = []\n",
    "mbc_list = []\n",
    "median_wbc = idx['WBC'].median()\n",
    "#median_mbc = idx['MBC'].median()\n",
    "# print(median_mbc)\n",
    "# wbc_list.append(idx['WBC'].median())\n",
    "# print(wbc_list)\n",
    "\n",
    "score_value = None\n",
    "\n",
    "for i in idx['WBC'].iteritems():\n",
    "#     for k in idx['MBC'].iteritems():\n",
    "    wbc_list.append(i[1])\n",
    "#         mbc_list.append(k[1])\n",
    "    scores =[]\n",
    "    for j in wbc_list:\n",
    "#         for kk in mbc_list:\n",
    "        if j < median_wbc / 2:# and kk < median_mbc / 2 :\n",
    "\n",
    "            score_value = -1\n",
    "            scores.append(score_value) \n",
    "        elif j < median_wbc: #and kk < median_mbc / 2:\n",
    "\n",
    "            score_value = 0\n",
    "            scores.append(score_value)\n",
    "        else:\n",
    "\n",
    "            score_value = 1\n",
    "            scores.append(score_value)\n",
    "\n",
    "print(scores)\n",
    "print(wbc_list)"
   ]
  },
  {
   "cell_type": "code",
   "execution_count": 10,
   "metadata": {},
   "outputs": [
    {
     "name": "stdout",
     "output_type": "stream",
     "text": [
      "        TLC     T8C     NCC      MBC  CD38   AGE  SEX  NLymph   SMG    WBC  \\\n",
      "ID                                                                           \n",
      "1    1138.4     NaN  1280.7  11810.9    2.0   62    1      0.0  2.0  18240   \n",
      "2    1562.5   312.5   937.5   3750.0    2.0   81    1      0.0  2.0  10280   \n",
      "3    2717.0  1235.0   247.0  21736.0    2.0   50    1      0.0  2.0  32020   \n",
      "4    2091.0     NaN  2509.2  16309.8    NaN   74    2      3.0  2.0  25880   \n",
      "5    2175.6   777.0   932.4  27972.0    2.0   86    1      0.0  1.0  39120   \n",
      "..      ...     ...     ...      ...    ...  ...  ...      ...  ...    ...   \n",
      "261   782.6   301.0   842.8   4394.6    1.0   61    1      3.0  2.0  13170   \n",
      "262     NaN     NaN     NaN      NaN    NaN   88    2      0.0  2.0  31670   \n",
      "263  1050.0   450.0   750.0  13200.0    2.0   79    1      0.0  2.0  18750   \n",
      "264    34.2    22.8    19.0    326.8    2.0   78    2      3.0  1.0   2390   \n",
      "265  4743.7  1851.2   925.6   5900.7    1.0   82    2      3.0  2.0  16880   \n",
      "\n",
      "     ...   LDH     BU   ALB    IgG   IgA   IgM   B2M  ZAP_70   MP  Ctx  \n",
      "ID   ...                                                                \n",
      "1    ...  289.0  1.60  41.0   7.79  1.92  1.24  1.06     NaN  1.0  2.0  \n",
      "2    ...  369.0  0.60  41.0  11.90  1.71  0.49  3.18     NaN  1.0  1.0  \n",
      "3    ...  402.0  1.00  43.0   9.46  1.32  0.49  2.00    0.27  2.0  1.0  \n",
      "4    ...  380.0  0.40  34.0  11.30  2.31  2.13  4.84     NaN  1.0  1.0  \n",
      "5    ...  533.0  0.40  42.8   7.00  0.65  0.20  5.36    1.20  2.0  2.0  \n",
      "..   ...    ...   ...   ...    ...   ...   ...   ...     ...  ...  ...  \n",
      "261  ...  539.0  0.90  37.0   5.85  1.06  0.70  2.70     NaN  1.0  1.0  \n",
      "262  ...  294.0  0.31  36.0    NaN   NaN   NaN   NaN     NaN  1.0  NaN  \n",
      "263  ...  336.0   NaN  36.0  13.90  1.37  0.43  2.40     NaN  2.0  2.0  \n",
      "264  ...  450.0  1.90  43.0   5.93  0.95  0.31  7.10     NaN  1.0  2.0  \n",
      "265  ...  318.0  1.10  41.9   7.31  1.06  1.00  2.29     NaN  1.0  1.0  \n",
      "\n",
      "[265 rows x 37 columns]\n"
     ]
    }
   ],
   "source": [
    "df = all_data.drop(columns=['Diagnosis date', 'Record date','Exitus date','Exitus','AID'])\n",
    "print(df)#df is final frame"
   ]
  },
  {
   "cell_type": "code",
   "execution_count": 11,
   "metadata": {
    "scrolled": true
   },
   "outputs": [
    {
     "name": "stdout",
     "output_type": "stream",
     "text": [
      "        TLC     T8C     NCC      MBC  CD38   AGE  SEX  NLymph   SMG    WBC  \\\n",
      "ID                                                                           \n",
      "1    1138.4     NaN  1280.7  11810.9    2.0   62    1      0.0  2.0  18240   \n",
      "2    1562.5   312.5   937.5   3750.0    2.0   81    1      0.0  2.0  10280   \n",
      "3    2717.0  1235.0   247.0  21736.0    2.0   50    1      0.0  2.0  32020   \n",
      "4    2091.0     NaN  2509.2  16309.8    NaN   74    2      3.0  2.0  25880   \n",
      "5    2175.6   777.0   932.4  27972.0    2.0   86    1      0.0  1.0  39120   \n",
      "..      ...     ...     ...      ...    ...  ...  ...      ...  ...    ...   \n",
      "261   782.6   301.0   842.8   4394.6    1.0   61    1      3.0  2.0  13170   \n",
      "262     NaN     NaN     NaN      NaN    NaN   88    2      0.0  2.0  31670   \n",
      "263  1050.0   450.0   750.0  13200.0    2.0   79    1      0.0  2.0  18750   \n",
      "264    34.2    22.8    19.0    326.8    2.0   78    2      3.0  1.0   2390   \n",
      "265  4743.7  1851.2   925.6   5900.7    1.0   82    2      3.0  2.0  16880   \n",
      "\n",
      "     ...    BU   ALB    IgG   IgA   IgM   B2M  ZAP_70   MP  Ctx  Ctx_tgt  \n",
      "ID   ...                                                                  \n",
      "1    ...  1.60  41.0   7.79  1.92  1.24  1.06     NaN  1.0  2.0      0.0  \n",
      "2    ...  0.60  41.0  11.90  1.71  0.49  3.18     NaN  1.0  1.0      1.0  \n",
      "3    ...  1.00  43.0   9.46  1.32  0.49  2.00    0.27  2.0  1.0      1.0  \n",
      "4    ...  0.40  34.0  11.30  2.31  2.13  4.84     NaN  1.0  1.0      1.0  \n",
      "5    ...  0.40  42.8   7.00  0.65  0.20  5.36    1.20  2.0  2.0      0.0  \n",
      "..   ...   ...   ...    ...   ...   ...   ...     ...  ...  ...      ...  \n",
      "261  ...  0.90  37.0   5.85  1.06  0.70  2.70     NaN  1.0  1.0      1.0  \n",
      "262  ...  0.31  36.0    NaN   NaN   NaN   NaN     NaN  1.0  NaN      1.0  \n",
      "263  ...   NaN  36.0  13.90  1.37  0.43  2.40     NaN  2.0  2.0      0.0  \n",
      "264  ...  1.90  43.0   5.93  0.95  0.31  7.10     NaN  1.0  2.0      0.0  \n",
      "265  ...  1.10  41.9   7.31  1.06  1.00  2.29     NaN  1.0  1.0      1.0  \n",
      "\n",
      "[265 rows x 38 columns]\n",
      "77\n"
     ]
    }
   ],
   "source": [
    "#replace 2.0,1.0 for ctx\n",
    "df['Ctx_tgt'] = [0.0 if x == 2.0 else 1.0 for x in df['Ctx']] \n",
    "print(df)\n",
    "print(len(df[df.Ctx_tgt == 1.0]))"
   ]
  },
  {
   "cell_type": "code",
   "execution_count": 12,
   "metadata": {},
   "outputs": [],
   "source": [
    "#sampling freq length of dataframe - total count of records\n",
    "count_nan = len(df) - df.count()"
   ]
  },
  {
   "cell_type": "code",
   "execution_count": 13,
   "metadata": {},
   "outputs": [
    {
     "data": {
      "text/plain": [
       "[9,\n",
       " 36,\n",
       " 24,\n",
       " 24,\n",
       " 118,\n",
       " 0,\n",
       " 0,\n",
       " 1,\n",
       " 1,\n",
       " 0,\n",
       " 0,\n",
       " 0,\n",
       " 0,\n",
       " 0,\n",
       " 0,\n",
       " 65,\n",
       " 4,\n",
       " 26,\n",
       " 15,\n",
       " 2,\n",
       " 1,\n",
       " 7,\n",
       " 25,\n",
       " 24,\n",
       " 5,\n",
       " 2,\n",
       " 12,\n",
       " 8,\n",
       " 10,\n",
       " 4,\n",
       " 9,\n",
       " 9,\n",
       " 9,\n",
       " 17,\n",
       " 207,\n",
       " 3,\n",
       " 6,\n",
       " 0]"
      ]
     },
     "execution_count": 13,
     "metadata": {},
     "output_type": "execute_result"
    }
   ],
   "source": [
    "count_nan.tolist()"
   ]
  },
  {
   "cell_type": "markdown",
   "metadata": {},
   "source": [
    "# Sample Frequency"
   ]
  },
  {
   "cell_type": "code",
   "execution_count": 14,
   "metadata": {},
   "outputs": [
    {
     "name": "stdout",
     "output_type": "stream",
     "text": [
      "[256, 229, 241, 241, 147, 265, 265, 264, 264, 265, 265, 265, 265, 265, 265, 200, 261, 239, 250, 263, 264, 258, 240, 241, 260, 263, 253, 257, 255, 261, 256, 256, 256, 248, 58, 262, 259, 265]\n"
     ]
    }
   ],
   "source": [
    "store=[]\n",
    "sample_freq=[]\n",
    "for i in range(len(count_nan)):\n",
    "    store.append(len(df)-count_nan[i])\n",
    "\n",
    "print(store)\n",
    "# count_nan\n",
    "sample_freq = []\n",
    "for k in store:\n",
    "    k = k/len(df) * 100\n",
    "    sample_freq.append(k)"
   ]
  },
  {
   "cell_type": "code",
   "execution_count": 15,
   "metadata": {},
   "outputs": [
    {
     "name": "stdout",
     "output_type": "stream",
     "text": [
      "38\n"
     ]
    }
   ],
   "source": [
    "print(len(sample_freq))"
   ]
  },
  {
   "cell_type": "code",
   "execution_count": 16,
   "metadata": {},
   "outputs": [],
   "source": [
    "sample_freq = list(filter(lambda x: x > [50], sample_freq))#after filtering less than 50% score"
   ]
  },
  {
   "cell_type": "code",
   "execution_count": 17,
   "metadata": {},
   "outputs": [
    {
     "name": "stdout",
     "output_type": "stream",
     "text": [
      "[96.60377358490567, 86.41509433962264, 90.9433962264151, 90.9433962264151, 55.471698113207545, 100.0, 100.0, 99.62264150943396, 99.62264150943396, 100.0, 100.0, 100.0, 100.0, 100.0, 100.0, 75.47169811320755, 98.49056603773585, 90.18867924528303, 94.33962264150944, 99.24528301886792, 99.62264150943396, 97.35849056603773, 90.56603773584906, 90.9433962264151, 98.11320754716981, 99.24528301886792, 95.47169811320755, 96.98113207547169, 96.22641509433963, 98.49056603773585, 96.60377358490567, 96.60377358490567, 96.60377358490567, 93.58490566037736, 98.86792452830188, 97.73584905660377, 100.0]\n"
     ]
    }
   ],
   "source": [
    "print(sample_freq)"
   ]
  },
  {
   "cell_type": "code",
   "execution_count": 18,
   "metadata": {},
   "outputs": [
    {
     "name": "stdout",
     "output_type": "stream",
     "text": [
      "   Variables  Sample_freq\n",
      "0        TLC    96.603774\n",
      "1        T8C    86.415094\n",
      "2        NCC    90.943396\n",
      "3        MBC    90.943396\n",
      "4      CD38     55.471698\n",
      "5        AGE   100.000000\n",
      "6        SEX   100.000000\n",
      "7     NLymph    99.622642\n",
      "8        SMG    99.622642\n",
      "9        WBC   100.000000\n",
      "10       ALC   100.000000\n",
      "11       SNC   100.000000\n",
      "12      HGB    100.000000\n",
      "13       MCV   100.000000\n",
      "14       PLT   100.000000\n",
      "15       RET    75.471698\n",
      "16       MOR    98.490566\n",
      "17        LD    90.188679\n",
      "18    COOMBS    94.339623\n",
      "19        UR    99.245283\n",
      "20        CR    99.622642\n",
      "21       UA     97.358491\n",
      "22        NA    90.566038\n",
      "23         K    90.943396\n",
      "24       GOT    98.113208\n",
      "25       GPT    99.245283\n",
      "26       ALP    95.471698\n",
      "27      LDH     96.981132\n",
      "28        BU    96.226415\n",
      "29       ALB    98.490566\n",
      "30       IgG    96.603774\n",
      "31       IgA    96.603774\n",
      "32       IgM    96.603774\n",
      "33       B2M    93.584906\n",
      "34        MP    98.867925\n",
      "35   Ctx_tgt    97.735849\n"
     ]
    }
   ],
   "source": [
    "\n",
    "\n",
    "data = {'Variables': ['TLC','T8C','NCC',' MBC','CD38 ','AGE','SEX','NLymph','SMG','WBC','ALC',\n",
    " 'SNC',' HGB ','MCV','PLT','RET','MOR','LD','COOMBS','UR','CR','UA ','NA',\n",
    " 'K','GOT','GPT','ALP','LDH ','BU','ALB','IgG','IgA','IgM','B2M',\n",
    " 'MP','Ctx_tgt'],'Sample_freq':[96.60377358490567, 86.41509433962264, \n",
    "        90.9433962264151, 90.9433962264151, 55.471698113207545, 100.0, 100.0, \n",
    "        99.62264150943396, 99.62264150943396, 100.0, 100.0, 100.0, 100.0, 100.0, \n",
    "        100.0, 75.47169811320755, 98.49056603773585, 90.18867924528303, 94.33962264150944, \n",
    "        99.24528301886792, 99.62264150943396, 97.35849056603773, 90.56603773584906, 90.9433962264151, \n",
    "        98.11320754716981, 99.24528301886792, 95.47169811320755, 96.98113207547169, 96.22641509433963, \n",
    "        98.49056603773585, 96.60377358490567, 96.60377358490567, 96.60377358490567, 93.58490566037736, \n",
    "        98.86792452830188, 97.73584905660377]} \n",
    "\n",
    "df_with_sfreq = pd.DataFrame(data,columns = ['Variables', 'Sample_freq'])\n",
    "print(df_with_sfreq)"
   ]
  },
  {
   "cell_type": "markdown",
   "metadata": {},
   "source": [
    "# Imputation "
   ]
  },
  {
   "cell_type": "code",
   "execution_count": 19,
   "metadata": {},
   "outputs": [],
   "source": [
    "from sklearn.impute import KNNImputer\n",
    "# from sklearn.preprocessing.Imputer import KNNImputer\n",
    "imputer = KNNImputer(n_neighbors=1)\n",
    "\n",
    "df_filled = pd.DataFrame(imputer.fit_transform(df))"
   ]
  },
  {
   "cell_type": "code",
   "execution_count": 20,
   "metadata": {},
   "outputs": [
    {
     "name": "stdout",
     "output_type": "stream",
     "text": [
      "          0        1       2         3    4     5    6    7    8        9   \\\n",
      "0    1138.40  1331.10  1280.7  11810.90  2.0  62.0  1.0  0.0  2.0  18240.0   \n",
      "1    1562.50   312.50   937.5   3750.00  2.0  81.0  1.0  0.0  2.0  10280.0   \n",
      "2    2717.00  1235.00   247.0  21736.00  2.0  50.0  1.0  0.0  2.0  32020.0   \n",
      "3    2091.00   605.50  2509.2  16309.80  1.0  74.0  2.0  3.0  2.0  25880.0   \n",
      "4    2175.60   777.00   932.4  27972.00  2.0  86.0  1.0  0.0  1.0  39120.0   \n",
      "..       ...      ...     ...       ...  ...   ...  ...  ...  ...      ...   \n",
      "260   782.60   301.00   842.8   4394.60  1.0  61.0  1.0  3.0  2.0  13170.0   \n",
      "261  2315.15   657.99  2437.0  19617.85  1.0  88.0  2.0  0.0  2.0  31670.0   \n",
      "262  1050.00   450.00   750.0  13200.00  2.0  79.0  1.0  0.0  2.0  18750.0   \n",
      "263    34.20    22.80    19.0    326.80  2.0  78.0  2.0  3.0  1.0   2390.0   \n",
      "264  4743.70  1851.20   925.6   5900.70  1.0  82.0  2.0  3.0  2.0  16880.0   \n",
      "\n",
      "     ...    28    29     30    31    32    33     34   35   36   37  \n",
      "0    ...  1.60  41.0   7.79  1.92  1.24  1.06  74.00  1.0  2.0  0.0  \n",
      "1    ...  0.60  41.0  11.90  1.71  0.49  3.18   0.00  1.0  1.0  1.0  \n",
      "2    ...  1.00  43.0   9.46  1.32  0.49  2.00   0.27  2.0  1.0  1.0  \n",
      "3    ...  0.40  34.0  11.30  2.31  2.13  4.84   1.30  1.0  1.0  1.0  \n",
      "4    ...  0.40  42.8   7.00  0.65  0.20  5.36   1.20  2.0  2.0  0.0  \n",
      "..   ...   ...   ...    ...   ...   ...   ...    ...  ...  ...  ...  \n",
      "260  ...  0.90  37.0   5.85  1.06  0.70  2.70   0.00  1.0  1.0  1.0  \n",
      "261  ...  0.31  36.0   9.80  2.34  0.85  1.54   0.02  1.0  2.0  1.0  \n",
      "262  ...  0.51  36.0  13.90  1.37  0.43  2.40   1.30  2.0  2.0  0.0  \n",
      "263  ...  1.90  43.0   5.93  0.95  0.31  7.10   4.00  1.0  2.0  0.0  \n",
      "264  ...  1.10  41.9   7.31  1.06  1.00  2.29   1.30  1.0  1.0  1.0  \n",
      "\n",
      "[265 rows x 38 columns]\n"
     ]
    }
   ],
   "source": [
    "print(df_filled)"
   ]
  },
  {
   "cell_type": "markdown",
   "metadata": {},
   "source": [
    "# Heatmap of Correlation"
   ]
  },
  {
   "cell_type": "code",
   "execution_count": 21,
   "metadata": {},
   "outputs": [
    {
     "name": "stderr",
     "output_type": "stream",
     "text": [
      "C:\\Users\\installations\\lib\\site-packages\\statsmodels\\tools\\_testing.py:19: FutureWarning: pandas.util.testing is deprecated. Use the functions in the public API at pandas.testing instead.\n",
      "  import pandas.util.testing as tm\n"
     ]
    },
    {
     "data": {
      "text/plain": [
       "<matplotlib.axes._axes.Axes at 0x2342183a470>"
      ]
     },
     "execution_count": 21,
     "metadata": {},
     "output_type": "execute_result"
    },
    {
     "data": {
      "image/png": "[encoded data removed]",
      "text/plain": [
       "<Figure size 432x288 with 2 Axes>"
      ]
     },
     "metadata": {
      "needs_background": "light"
     },
     "output_type": "display_data"
    }
   ],
   "source": [
    "import matplotlib.pyplot as plt\n",
    "import seaborn as sns\n",
    "%matplotlib inline\n",
    "corr = df_filled.corr()\n",
    "fig = plt.figure()\n",
    "ax = fig.add_axes([0,0,1.5,1])\n",
    "sns.heatmap(corr)"
   ]
  },
  {
   "cell_type": "code",
   "execution_count": 22,
   "metadata": {},
   "outputs": [
    {
     "data": {
      "text/html": [
       "<div>\n",
       "<style scoped>\n",
       "    .dataframe tbody tr th:only-of-type {\n",
       "        vertical-align: middle;\n",
       "    }\n",
       "\n",
       "    .dataframe tbody tr th {\n",
       "        vertical-align: top;\n",
       "    }\n",
       "\n",
       "    .dataframe thead th {\n",
       "        text-align: right;\n",
       "    }\n",
       "</style>\n",
       "<table border=\"1\" class=\"dataframe\">\n",
       "  <thead>\n",
       "    <tr style=\"text-align: right;\">\n",
       "      <th></th>\n",
       "      <th>0</th>\n",
       "      <th>1</th>\n",
       "      <th>2</th>\n",
       "      <th>3</th>\n",
       "      <th>4</th>\n",
       "      <th>5</th>\n",
       "      <th>6</th>\n",
       "      <th>7</th>\n",
       "      <th>8</th>\n",
       "      <th>9</th>\n",
       "      <th>...</th>\n",
       "      <th>28</th>\n",
       "      <th>29</th>\n",
       "      <th>30</th>\n",
       "      <th>31</th>\n",
       "      <th>32</th>\n",
       "      <th>33</th>\n",
       "      <th>34</th>\n",
       "      <th>35</th>\n",
       "      <th>36</th>\n",
       "      <th>37</th>\n",
       "    </tr>\n",
       "  </thead>\n",
       "  <tbody>\n",
       "    <tr>\n",
       "      <th>0</th>\n",
       "      <td>1138.40</td>\n",
       "      <td>1331.10</td>\n",
       "      <td>1280.7</td>\n",
       "      <td>11810.90</td>\n",
       "      <td>2.0</td>\n",
       "      <td>62.0</td>\n",
       "      <td>1.0</td>\n",
       "      <td>0.0</td>\n",
       "      <td>2.0</td>\n",
       "      <td>18240.0</td>\n",
       "      <td>...</td>\n",
       "      <td>1.60</td>\n",
       "      <td>41.0</td>\n",
       "      <td>7.79</td>\n",
       "      <td>1.92</td>\n",
       "      <td>1.24</td>\n",
       "      <td>1.06</td>\n",
       "      <td>74.00</td>\n",
       "      <td>1.0</td>\n",
       "      <td>2.0</td>\n",
       "      <td>0.0</td>\n",
       "    </tr>\n",
       "    <tr>\n",
       "      <th>1</th>\n",
       "      <td>1562.50</td>\n",
       "      <td>312.50</td>\n",
       "      <td>937.5</td>\n",
       "      <td>3750.00</td>\n",
       "      <td>2.0</td>\n",
       "      <td>81.0</td>\n",
       "      <td>1.0</td>\n",
       "      <td>0.0</td>\n",
       "      <td>2.0</td>\n",
       "      <td>10280.0</td>\n",
       "      <td>...</td>\n",
       "      <td>0.60</td>\n",
       "      <td>41.0</td>\n",
       "      <td>11.90</td>\n",
       "      <td>1.71</td>\n",
       "      <td>0.49</td>\n",
       "      <td>3.18</td>\n",
       "      <td>0.00</td>\n",
       "      <td>1.0</td>\n",
       "      <td>1.0</td>\n",
       "      <td>1.0</td>\n",
       "    </tr>\n",
       "    <tr>\n",
       "      <th>2</th>\n",
       "      <td>2717.00</td>\n",
       "      <td>1235.00</td>\n",
       "      <td>247.0</td>\n",
       "      <td>21736.00</td>\n",
       "      <td>2.0</td>\n",
       "      <td>50.0</td>\n",
       "      <td>1.0</td>\n",
       "      <td>0.0</td>\n",
       "      <td>2.0</td>\n",
       "      <td>32020.0</td>\n",
       "      <td>...</td>\n",
       "      <td>1.00</td>\n",
       "      <td>43.0</td>\n",
       "      <td>9.46</td>\n",
       "      <td>1.32</td>\n",
       "      <td>0.49</td>\n",
       "      <td>2.00</td>\n",
       "      <td>0.27</td>\n",
       "      <td>2.0</td>\n",
       "      <td>1.0</td>\n",
       "      <td>1.0</td>\n",
       "    </tr>\n",
       "    <tr>\n",
       "      <th>3</th>\n",
       "      <td>2091.00</td>\n",
       "      <td>605.50</td>\n",
       "      <td>2509.2</td>\n",
       "      <td>16309.80</td>\n",
       "      <td>1.0</td>\n",
       "      <td>74.0</td>\n",
       "      <td>2.0</td>\n",
       "      <td>3.0</td>\n",
       "      <td>2.0</td>\n",
       "      <td>25880.0</td>\n",
       "      <td>...</td>\n",
       "      <td>0.40</td>\n",
       "      <td>34.0</td>\n",
       "      <td>11.30</td>\n",
       "      <td>2.31</td>\n",
       "      <td>2.13</td>\n",
       "      <td>4.84</td>\n",
       "      <td>1.30</td>\n",
       "      <td>1.0</td>\n",
       "      <td>1.0</td>\n",
       "      <td>1.0</td>\n",
       "    </tr>\n",
       "    <tr>\n",
       "      <th>4</th>\n",
       "      <td>2175.60</td>\n",
       "      <td>777.00</td>\n",
       "      <td>932.4</td>\n",
       "      <td>27972.00</td>\n",
       "      <td>2.0</td>\n",
       "      <td>86.0</td>\n",
       "      <td>1.0</td>\n",
       "      <td>0.0</td>\n",
       "      <td>1.0</td>\n",
       "      <td>39120.0</td>\n",
       "      <td>...</td>\n",
       "      <td>0.40</td>\n",
       "      <td>42.8</td>\n",
       "      <td>7.00</td>\n",
       "      <td>0.65</td>\n",
       "      <td>0.20</td>\n",
       "      <td>5.36</td>\n",
       "      <td>1.20</td>\n",
       "      <td>2.0</td>\n",
       "      <td>2.0</td>\n",
       "      <td>0.0</td>\n",
       "    </tr>\n",
       "    <tr>\n",
       "      <th>...</th>\n",
       "      <td>...</td>\n",
       "      <td>...</td>\n",
       "      <td>...</td>\n",
       "      <td>...</td>\n",
       "      <td>...</td>\n",
       "      <td>...</td>\n",
       "      <td>...</td>\n",
       "      <td>...</td>\n",
       "      <td>...</td>\n",
       "      <td>...</td>\n",
       "      <td>...</td>\n",
       "      <td>...</td>\n",
       "      <td>...</td>\n",
       "      <td>...</td>\n",
       "      <td>...</td>\n",
       "      <td>...</td>\n",
       "      <td>...</td>\n",
       "      <td>...</td>\n",
       "      <td>...</td>\n",
       "      <td>...</td>\n",
       "      <td>...</td>\n",
       "    </tr>\n",
       "    <tr>\n",
       "      <th>260</th>\n",
       "      <td>782.60</td>\n",
       "      <td>301.00</td>\n",
       "      <td>842.8</td>\n",
       "      <td>4394.60</td>\n",
       "      <td>1.0</td>\n",
       "      <td>61.0</td>\n",
       "      <td>1.0</td>\n",
       "      <td>3.0</td>\n",
       "      <td>2.0</td>\n",
       "      <td>13170.0</td>\n",
       "      <td>...</td>\n",
       "      <td>0.90</td>\n",
       "      <td>37.0</td>\n",
       "      <td>5.85</td>\n",
       "      <td>1.06</td>\n",
       "      <td>0.70</td>\n",
       "      <td>2.70</td>\n",
       "      <td>0.00</td>\n",
       "      <td>1.0</td>\n",
       "      <td>1.0</td>\n",
       "      <td>1.0</td>\n",
       "    </tr>\n",
       "    <tr>\n",
       "      <th>261</th>\n",
       "      <td>2315.15</td>\n",
       "      <td>657.99</td>\n",
       "      <td>2437.0</td>\n",
       "      <td>19617.85</td>\n",
       "      <td>1.0</td>\n",
       "      <td>88.0</td>\n",
       "      <td>2.0</td>\n",
       "      <td>0.0</td>\n",
       "      <td>2.0</td>\n",
       "      <td>31670.0</td>\n",
       "      <td>...</td>\n",
       "      <td>0.31</td>\n",
       "      <td>36.0</td>\n",
       "      <td>9.80</td>\n",
       "      <td>2.34</td>\n",
       "      <td>0.85</td>\n",
       "      <td>1.54</td>\n",
       "      <td>0.02</td>\n",
       "      <td>1.0</td>\n",
       "      <td>2.0</td>\n",
       "      <td>1.0</td>\n",
       "    </tr>\n",
       "    <tr>\n",
       "      <th>262</th>\n",
       "      <td>1050.00</td>\n",
       "      <td>450.00</td>\n",
       "      <td>750.0</td>\n",
       "      <td>13200.00</td>\n",
       "      <td>2.0</td>\n",
       "      <td>79.0</td>\n",
       "      <td>1.0</td>\n",
       "      <td>0.0</td>\n",
       "      <td>2.0</td>\n",
       "      <td>18750.0</td>\n",
       "      <td>...</td>\n",
       "      <td>0.51</td>\n",
       "      <td>36.0</td>\n",
       "      <td>13.90</td>\n",
       "      <td>1.37</td>\n",
       "      <td>0.43</td>\n",
       "      <td>2.40</td>\n",
       "      <td>1.30</td>\n",
       "      <td>2.0</td>\n",
       "      <td>2.0</td>\n",
       "      <td>0.0</td>\n",
       "    </tr>\n",
       "    <tr>\n",
       "      <th>263</th>\n",
       "      <td>34.20</td>\n",
       "      <td>22.80</td>\n",
       "      <td>19.0</td>\n",
       "      <td>326.80</td>\n",
       "      <td>2.0</td>\n",
       "      <td>78.0</td>\n",
       "      <td>2.0</td>\n",
       "      <td>3.0</td>\n",
       "      <td>1.0</td>\n",
       "      <td>2390.0</td>\n",
       "      <td>...</td>\n",
       "      <td>1.90</td>\n",
       "      <td>43.0</td>\n",
       "      <td>5.93</td>\n",
       "      <td>0.95</td>\n",
       "      <td>0.31</td>\n",
       "      <td>7.10</td>\n",
       "      <td>4.00</td>\n",
       "      <td>1.0</td>\n",
       "      <td>2.0</td>\n",
       "      <td>0.0</td>\n",
       "    </tr>\n",
       "    <tr>\n",
       "      <th>264</th>\n",
       "      <td>4743.70</td>\n",
       "      <td>1851.20</td>\n",
       "      <td>925.6</td>\n",
       "      <td>5900.70</td>\n",
       "      <td>1.0</td>\n",
       "      <td>82.0</td>\n",
       "      <td>2.0</td>\n",
       "      <td>3.0</td>\n",
       "      <td>2.0</td>\n",
       "      <td>16880.0</td>\n",
       "      <td>...</td>\n",
       "      <td>1.10</td>\n",
       "      <td>41.9</td>\n",
       "      <td>7.31</td>\n",
       "      <td>1.06</td>\n",
       "      <td>1.00</td>\n",
       "      <td>2.29</td>\n",
       "      <td>1.30</td>\n",
       "      <td>1.0</td>\n",
       "      <td>1.0</td>\n",
       "      <td>1.0</td>\n",
       "    </tr>\n",
       "  </tbody>\n",
       "</table>\n",
       "<p>265 rows × 38 columns</p>\n",
       "</div>"
      ],
      "text/plain": [
       "          0        1       2         3    4     5    6    7    8        9   \\\n",
       "0    1138.40  1331.10  1280.7  11810.90  2.0  62.0  1.0  0.0  2.0  18240.0   \n",
       "1    1562.50   312.50   937.5   3750.00  2.0  81.0  1.0  0.0  2.0  10280.0   \n",
       "2    2717.00  1235.00   247.0  21736.00  2.0  50.0  1.0  0.0  2.0  32020.0   \n",
       "3    2091.00   605.50  2509.2  16309.80  1.0  74.0  2.0  3.0  2.0  25880.0   \n",
       "4    2175.60   777.00   932.4  27972.00  2.0  86.0  1.0  0.0  1.0  39120.0   \n",
       "..       ...      ...     ...       ...  ...   ...  ...  ...  ...      ...   \n",
       "260   782.60   301.00   842.8   4394.60  1.0  61.0  1.0  3.0  2.0  13170.0   \n",
       "261  2315.15   657.99  2437.0  19617.85  1.0  88.0  2.0  0.0  2.0  31670.0   \n",
       "262  1050.00   450.00   750.0  13200.00  2.0  79.0  1.0  0.0  2.0  18750.0   \n",
       "263    34.20    22.80    19.0    326.80  2.0  78.0  2.0  3.0  1.0   2390.0   \n",
       "264  4743.70  1851.20   925.6   5900.70  1.0  82.0  2.0  3.0  2.0  16880.0   \n",
       "\n",
       "     ...    28    29     30    31    32    33     34   35   36   37  \n",
       "0    ...  1.60  41.0   7.79  1.92  1.24  1.06  74.00  1.0  2.0  0.0  \n",
       "1    ...  0.60  41.0  11.90  1.71  0.49  3.18   0.00  1.0  1.0  1.0  \n",
       "2    ...  1.00  43.0   9.46  1.32  0.49  2.00   0.27  2.0  1.0  1.0  \n",
       "3    ...  0.40  34.0  11.30  2.31  2.13  4.84   1.30  1.0  1.0  1.0  \n",
       "4    ...  0.40  42.8   7.00  0.65  0.20  5.36   1.20  2.0  2.0  0.0  \n",
       "..   ...   ...   ...    ...   ...   ...   ...    ...  ...  ...  ...  \n",
       "260  ...  0.90  37.0   5.85  1.06  0.70  2.70   0.00  1.0  1.0  1.0  \n",
       "261  ...  0.31  36.0   9.80  2.34  0.85  1.54   0.02  1.0  2.0  1.0  \n",
       "262  ...  0.51  36.0  13.90  1.37  0.43  2.40   1.30  2.0  2.0  0.0  \n",
       "263  ...  1.90  43.0   5.93  0.95  0.31  7.10   4.00  1.0  2.0  0.0  \n",
       "264  ...  1.10  41.9   7.31  1.06  1.00  2.29   1.30  1.0  1.0  1.0  \n",
       "\n",
       "[265 rows x 38 columns]"
      ]
     },
     "execution_count": 22,
     "metadata": {},
     "output_type": "execute_result"
    }
   ],
   "source": [
    "df_filled"
   ]
  },
  {
   "cell_type": "code",
   "execution_count": 23,
   "metadata": {},
   "outputs": [],
   "source": [
    "count_nan1 = len(df_filled) - df_filled.count()"
   ]
  },
  {
   "cell_type": "code",
   "execution_count": 24,
   "metadata": {},
   "outputs": [
    {
     "data": {
      "text/plain": [
       "0     0\n",
       "1     0\n",
       "2     0\n",
       "3     0\n",
       "4     0\n",
       "5     0\n",
       "6     0\n",
       "7     0\n",
       "8     0\n",
       "9     0\n",
       "10    0\n",
       "11    0\n",
       "12    0\n",
       "13    0\n",
       "14    0\n",
       "15    0\n",
       "16    0\n",
       "17    0\n",
       "18    0\n",
       "19    0\n",
       "20    0\n",
       "21    0\n",
       "22    0\n",
       "23    0\n",
       "24    0\n",
       "25    0\n",
       "26    0\n",
       "27    0\n",
       "28    0\n",
       "29    0\n",
       "30    0\n",
       "31    0\n",
       "32    0\n",
       "33    0\n",
       "34    0\n",
       "35    0\n",
       "36    0\n",
       "37    0\n",
       "dtype: int64"
      ]
     },
     "execution_count": 24,
     "metadata": {},
     "output_type": "execute_result"
    }
   ],
   "source": [
    "count_nan1"
   ]
  },
  {
   "cell_type": "code",
   "execution_count": 25,
   "metadata": {},
   "outputs": [
    {
     "name": "stdout",
     "output_type": "stream",
     "text": [
      "Index(['TLC', 'T8C', 'NCC', ' MBC', 'CD38 ', 'AGE', 'SEX', 'NLymph ', 'SMG',\n",
      "       'WBC', 'ALC', 'SNC', ' HGB ', 'MCV', 'PLT', 'RET', 'MOR', 'LD',\n",
      "       'COOMBS', 'UR', 'CR', 'UA ', 'NA', 'K', 'GOT', 'GPT', 'ALP', 'LDH ',\n",
      "       'BU', 'ALB', 'IgG', 'IgA', 'IgM', 'B2M', 'ZAP_70', 'MP', 'Ctx',\n",
      "       'Ctx_tgt'],\n",
      "      dtype='object')\n"
     ]
    }
   ],
   "source": [
    "column_s = df.columns\n",
    "print(column_s)\n",
    "df_filled.columns = column_s"
   ]
  },
  {
   "cell_type": "code",
   "execution_count": 26,
   "metadata": {},
   "outputs": [
    {
     "name": "stdout",
     "output_type": "stream",
     "text": [
      "Index(['TLC', 'T8C', 'NCC', ' MBC', 'CD38 ', 'AGE', 'SEX', 'NLymph ', 'SMG',\n",
      "       'WBC', 'ALC', 'SNC', ' HGB ', 'MCV', 'PLT', 'RET', 'MOR', 'LD',\n",
      "       'COOMBS', 'UR', 'CR', 'UA ', 'NA', 'K', 'GOT', 'GPT', 'ALP', 'LDH ',\n",
      "       'BU', 'ALB', 'IgG', 'IgA', 'IgM', 'B2M', 'ZAP_70', 'MP', 'Ctx',\n",
      "       'Ctx_tgt'],\n",
      "      dtype='object')\n",
      "Index([' HGB ', ' MBC', 'AGE', 'ALB', 'ALC', 'ALP', 'B2M', 'BU', 'CD38 ',\n",
      "       'COOMBS', 'CR', 'Ctx_tgt', 'GOT', 'GPT', 'IgA', 'IgG', 'IgM', 'K', 'LD',\n",
      "       'LDH ', 'MCV', 'MOR', 'MP', 'NA', 'NCC', 'NLymph ', 'PLT', 'RET', 'SEX',\n",
      "       'SMG', 'SNC', 'T8C', 'TLC', 'UA ', 'UR', 'WBC', 'ZAP_70'],\n",
      "      dtype='object')\n"
     ]
    }
   ],
   "source": [
    "column_s = df.columns\n",
    "print(column_s)\n",
    "df_filled.columns = column_s\n",
    "cols = ['Ctx','AID']\n",
    "#cols = [36,37]\n",
    "X = df_filled[df_filled.columns.difference(cols)]\n",
    "print(X.columns)\n",
    "Y = df_filled['Ctx_tgt']#0/1 tgt variable\n",
    "#print(Y)"
   ]
  },
  {
   "cell_type": "code",
   "execution_count": 27,
   "metadata": {},
   "outputs": [
    {
     "name": "stdout",
     "output_type": "stream",
     "text": [
      "Index(['TLC', 'T8C', 'NCC', ' MBC', 'CD38 ', 'AGE', 'SEX', 'NLymph ', 'SMG',\n",
      "       'WBC', 'ALC', 'SNC', ' HGB ', 'MCV', 'PLT', 'RET', 'MOR', 'LD',\n",
      "       'COOMBS', 'UR', 'CR', 'UA ', 'NA', 'K', 'GOT', 'GPT', 'ALP', 'LDH ',\n",
      "       'BU', 'ALB', 'IgG', 'IgA', 'IgM', 'B2M', 'ZAP_70', 'MP', 'Ctx',\n",
      "       'Ctx_tgt'],\n",
      "      dtype='object')\n"
     ]
    }
   ],
   "source": [
    "#print(df_filled)\n",
    "print(column_s)"
   ]
  },
  {
   "cell_type": "markdown",
   "metadata": {},
   "source": [
    "# Split dataset into train and test data"
   ]
  },
  {
   "cell_type": "code",
   "execution_count": 28,
   "metadata": {},
   "outputs": [],
   "source": [
    "from sklearn.model_selection import train_test_split\n",
    "\n",
    "X_train, X_test, y_train, y_test = train_test_split(X, Y, test_size=0.20, random_state=112)"
   ]
  },
  {
   "cell_type": "code",
   "execution_count": 29,
   "metadata": {},
   "outputs": [],
   "source": [
    "from sklearn.feature_selection import chi2"
   ]
  },
  {
   "cell_type": "markdown",
   "metadata": {},
   "source": [
    "# Fisher Score for feature elimination"
   ]
  },
  {
   "cell_type": "code",
   "execution_count": 30,
   "metadata": {},
   "outputs": [
    {
     "data": {
      "text/plain": [
       "(array([1.82330230e+00, 9.31002328e+05, 2.28350037e-01, 6.24127737e-02,\n",
       "        9.81340696e+05, 4.09064922e+01, 9.16330775e+00, 5.54609685e-02,\n",
       "        1.23865241e+00, 3.73318524e-01, 3.53069637e-03, 1.46000000e+02,\n",
       "        2.94685352e+01, 2.35484403e+00, 6.42001086e+00, 9.12688770e+01,\n",
       "        8.57179673e+01, 1.05744101e-03, 3.98922435e+00, 1.07134067e+02,\n",
       "        3.75046111e-01, 5.42410405e-01, 4.78373802e-01, 4.94127980e-02,\n",
       "        1.15190566e+04, 8.51550545e+01, 2.57693558e+05, 1.52069617e+04,\n",
       "        6.16830176e-01, 1.22403135e+00, 4.11638993e+03, 8.20484696e+03,\n",
       "        7.07364741e+03, 3.67618475e+00, 2.33960041e+00, 1.07754641e+06,\n",
       "        3.56351158e+00]),\n",
       " array([1.76920697e-01, 0.00000000e+00, 6.32749959e-01, 8.02722309e-01,\n",
       "        0.00000000e+00, 1.59689770e-10, 2.46915857e-03, 8.13819495e-01,\n",
       "        2.65730926e-01, 5.41200922e-01, 9.52617852e-01, 1.29819858e-33,\n",
       "        5.68319045e-08, 1.24894376e-01, 1.12841471e-02, 1.25417827e-21,\n",
       "        2.07518766e-20, 9.74058708e-01, 4.57921398e-02, 4.16050490e-25,\n",
       "        5.40266472e-01, 4.61435490e-01, 4.89159842e-01, 8.24088217e-01,\n",
       "        0.00000000e+00, 2.75861679e-20, 0.00000000e+00, 0.00000000e+00,\n",
       "        4.32227657e-01, 2.68570947e-01, 0.00000000e+00, 0.00000000e+00,\n",
       "        0.00000000e+00, 5.51950138e-02, 1.26121903e-01, 0.00000000e+00,\n",
       "        5.90626683e-02]))"
      ]
     },
     "execution_count": 30,
     "metadata": {},
     "output_type": "execute_result"
    }
   ],
   "source": [
    "fisher_score = chi2(X_train, y_train)\n",
    "fisher_score\n",
    "#Two arrays are returned: F scores and P value. More the P value, more difference between the distributions."
   ]
  },
  {
   "cell_type": "code",
   "execution_count": 31,
   "metadata": {},
   "outputs": [
    {
     "name": "stdout",
     "output_type": "stream",
     "text": [
      "0.0010574410143974725\n"
     ]
    },
    {
     "data": {
      "text/plain": [
       "WBC        1.077546e+06\n",
       "ALC        9.813407e+05\n",
       " MBC       9.310023e+05\n",
       "PLT        2.576936e+05\n",
       "RET        1.520696e+04\n",
       "NCC        1.151906e+04\n",
       "T8C        8.204847e+03\n",
       "TLC        7.073647e+03\n",
       "SNC        4.116390e+03\n",
       "Ctx_tgt    1.460000e+02\n",
       "LDH        1.071341e+02\n",
       "IgG        9.126888e+01\n",
       "IgM        8.571797e+01\n",
       "NLymph     8.515505e+01\n",
       "ALP        4.090649e+01\n",
       "GOT        2.946854e+01\n",
       "B2M        9.163308e+00\n",
       "IgA        6.420011e+00\n",
       "LD         3.989224e+00\n",
       "UA         3.676185e+00\n",
       "ZAP_70     3.563512e+00\n",
       "GPT        2.354844e+00\n",
       "UR         2.339600e+00\n",
       " HGB       1.823302e+00\n",
       "CD38       1.238652e+00\n",
       "SMG        1.224031e+00\n",
       "SEX        6.168302e-01\n",
       "MOR        5.424104e-01\n",
       "MP         4.783738e-01\n",
       "MCV        3.750461e-01\n",
       "COOMBS     3.733185e-01\n",
       "AGE        2.283500e-01\n",
       "ALB        6.241277e-02\n",
       "BU         5.546097e-02\n",
       "NA         4.941280e-02\n",
       "CR         3.530696e-03\n",
       "K          1.057441e-03\n",
       "dtype: float64"
      ]
     },
     "execution_count": 31,
     "metadata": {},
     "output_type": "execute_result"
    }
   ],
   "source": [
    "p_values = pd.Series(fisher_score[0])\n",
    "print(min(p_values))\n",
    "p_values.index = X_train.columns\n",
    "p_values.sort_values(ascending=False)\n",
    "#Smaller the p_value, more significant the feature is to predict the target value i"
   ]
  },
  {
   "cell_type": "markdown",
   "metadata": {},
   "source": [
    "# Maximum Percentile"
   ]
  },
  {
   "cell_type": "code",
   "execution_count": 32,
   "metadata": {},
   "outputs": [
    {
     "data": {
      "text/html": [
       "<div>\n",
       "<style scoped>\n",
       "    .dataframe tbody tr th:only-of-type {\n",
       "        vertical-align: middle;\n",
       "    }\n",
       "\n",
       "    .dataframe tbody tr th {\n",
       "        vertical-align: top;\n",
       "    }\n",
       "\n",
       "    .dataframe thead th {\n",
       "        text-align: right;\n",
       "    }\n",
       "</style>\n",
       "<table border=\"1\" class=\"dataframe\">\n",
       "  <thead>\n",
       "    <tr style=\"text-align: right;\">\n",
       "      <th></th>\n",
       "      <th>7520.00</th>\n",
       "      <th>52.00</th>\n",
       "      <th>1.27</th>\n",
       "      <th>0.00</th>\n",
       "      <th>26.00</th>\n",
       "      <th>1.66</th>\n",
       "      <th>9.70</th>\n",
       "      <th>0.71</th>\n",
       "      <th>299.00</th>\n",
       "      <th>376.00</th>\n",
       "      <th>0.00</th>\n",
       "      <th>212000.00</th>\n",
       "      <th>110000.00</th>\n",
       "      <th>4020.00</th>\n",
       "      <th>526.40</th>\n",
       "      <th>1729.60</th>\n",
       "      <th>12620.00</th>\n",
       "    </tr>\n",
       "  </thead>\n",
       "  <tbody>\n",
       "    <tr>\n",
       "      <th>0</th>\n",
       "      <td>8810.0</td>\n",
       "      <td>48.0</td>\n",
       "      <td>1.21</td>\n",
       "      <td>0.0</td>\n",
       "      <td>17.0</td>\n",
       "      <td>1.60</td>\n",
       "      <td>7.44</td>\n",
       "      <td>0.47</td>\n",
       "      <td>256.0</td>\n",
       "      <td>528.6</td>\n",
       "      <td>2.0</td>\n",
       "      <td>214000.0</td>\n",
       "      <td>57500.0</td>\n",
       "      <td>3130.0</td>\n",
       "      <td>792.9</td>\n",
       "      <td>1497.7</td>\n",
       "      <td>12580.0</td>\n",
       "    </tr>\n",
       "    <tr>\n",
       "      <th>1</th>\n",
       "      <td>15290.0</td>\n",
       "      <td>72.0</td>\n",
       "      <td>2.10</td>\n",
       "      <td>0.0</td>\n",
       "      <td>21.0</td>\n",
       "      <td>0.76</td>\n",
       "      <td>517.00</td>\n",
       "      <td>0.30</td>\n",
       "      <td>300.0</td>\n",
       "      <td>764.5</td>\n",
       "      <td>0.0</td>\n",
       "      <td>154000.0</td>\n",
       "      <td>11020.0</td>\n",
       "      <td>6550.0</td>\n",
       "      <td>764.5</td>\n",
       "      <td>1223.2</td>\n",
       "      <td>22580.0</td>\n",
       "    </tr>\n",
       "    <tr>\n",
       "      <th>2</th>\n",
       "      <td>37560.0</td>\n",
       "      <td>68.0</td>\n",
       "      <td>7.12</td>\n",
       "      <td>0.0</td>\n",
       "      <td>11.0</td>\n",
       "      <td>0.39</td>\n",
       "      <td>6.42</td>\n",
       "      <td>0.19</td>\n",
       "      <td>308.0</td>\n",
       "      <td>751.2</td>\n",
       "      <td>0.0</td>\n",
       "      <td>147000.0</td>\n",
       "      <td>46700.0</td>\n",
       "      <td>5860.0</td>\n",
       "      <td>2253.6</td>\n",
       "      <td>2629.2</td>\n",
       "      <td>47280.0</td>\n",
       "    </tr>\n",
       "    <tr>\n",
       "      <th>3</th>\n",
       "      <td>7060.0</td>\n",
       "      <td>48.0</td>\n",
       "      <td>3.20</td>\n",
       "      <td>1.0</td>\n",
       "      <td>23.0</td>\n",
       "      <td>2.84</td>\n",
       "      <td>12.80</td>\n",
       "      <td>0.79</td>\n",
       "      <td>471.0</td>\n",
       "      <td>917.8</td>\n",
       "      <td>3.0</td>\n",
       "      <td>136000.0</td>\n",
       "      <td>47400.0</td>\n",
       "      <td>4820.0</td>\n",
       "      <td>564.8</td>\n",
       "      <td>1765.0</td>\n",
       "      <td>13500.0</td>\n",
       "    </tr>\n",
       "    <tr>\n",
       "      <th>4</th>\n",
       "      <td>6460.0</td>\n",
       "      <td>35.0</td>\n",
       "      <td>6.00</td>\n",
       "      <td>0.0</td>\n",
       "      <td>19.0</td>\n",
       "      <td>3.48</td>\n",
       "      <td>12.80</td>\n",
       "      <td>0.88</td>\n",
       "      <td>450.0</td>\n",
       "      <td>532.0</td>\n",
       "      <td>0.0</td>\n",
       "      <td>165000.0</td>\n",
       "      <td>88800.0</td>\n",
       "      <td>3670.0</td>\n",
       "      <td>1098.2</td>\n",
       "      <td>1615.0</td>\n",
       "      <td>11200.0</td>\n",
       "    </tr>\n",
       "    <tr>\n",
       "      <th>...</th>\n",
       "      <td>...</td>\n",
       "      <td>...</td>\n",
       "      <td>...</td>\n",
       "      <td>...</td>\n",
       "      <td>...</td>\n",
       "      <td>...</td>\n",
       "      <td>...</td>\n",
       "      <td>...</td>\n",
       "      <td>...</td>\n",
       "      <td>...</td>\n",
       "      <td>...</td>\n",
       "      <td>...</td>\n",
       "      <td>...</td>\n",
       "      <td>...</td>\n",
       "      <td>...</td>\n",
       "      <td>...</td>\n",
       "      <td>...</td>\n",
       "    </tr>\n",
       "    <tr>\n",
       "      <th>206</th>\n",
       "      <td>11060.0</td>\n",
       "      <td>52.0</td>\n",
       "      <td>2.40</td>\n",
       "      <td>0.0</td>\n",
       "      <td>23.0</td>\n",
       "      <td>3.41</td>\n",
       "      <td>12.50</td>\n",
       "      <td>1.65</td>\n",
       "      <td>291.0</td>\n",
       "      <td>518.4</td>\n",
       "      <td>2.0</td>\n",
       "      <td>171000.0</td>\n",
       "      <td>78500.0</td>\n",
       "      <td>5710.0</td>\n",
       "      <td>1769.6</td>\n",
       "      <td>3207.4</td>\n",
       "      <td>18470.0</td>\n",
       "    </tr>\n",
       "    <tr>\n",
       "      <th>207</th>\n",
       "      <td>7970.0</td>\n",
       "      <td>62.0</td>\n",
       "      <td>1.70</td>\n",
       "      <td>1.0</td>\n",
       "      <td>21.0</td>\n",
       "      <td>0.67</td>\n",
       "      <td>5.59</td>\n",
       "      <td>0.44</td>\n",
       "      <td>280.0</td>\n",
       "      <td>398.5</td>\n",
       "      <td>3.0</td>\n",
       "      <td>150000.0</td>\n",
       "      <td>48300.0</td>\n",
       "      <td>2550.0</td>\n",
       "      <td>159.4</td>\n",
       "      <td>557.9</td>\n",
       "      <td>11450.0</td>\n",
       "    </tr>\n",
       "    <tr>\n",
       "      <th>208</th>\n",
       "      <td>14490.0</td>\n",
       "      <td>81.0</td>\n",
       "      <td>2.30</td>\n",
       "      <td>0.0</td>\n",
       "      <td>20.0</td>\n",
       "      <td>4.20</td>\n",
       "      <td>10.30</td>\n",
       "      <td>0.45</td>\n",
       "      <td>309.0</td>\n",
       "      <td>1159.2</td>\n",
       "      <td>0.0</td>\n",
       "      <td>204000.0</td>\n",
       "      <td>60100.0</td>\n",
       "      <td>4550.0</td>\n",
       "      <td>869.4</td>\n",
       "      <td>2173.5</td>\n",
       "      <td>20510.0</td>\n",
       "    </tr>\n",
       "    <tr>\n",
       "      <th>209</th>\n",
       "      <td>1470.0</td>\n",
       "      <td>57.0</td>\n",
       "      <td>5.20</td>\n",
       "      <td>1.0</td>\n",
       "      <td>37.0</td>\n",
       "      <td>0.65</td>\n",
       "      <td>18.30</td>\n",
       "      <td>0.69</td>\n",
       "      <td>289.0</td>\n",
       "      <td>161.7</td>\n",
       "      <td>3.0</td>\n",
       "      <td>319000.0</td>\n",
       "      <td>70200.0</td>\n",
       "      <td>1160.0</td>\n",
       "      <td>235.2</td>\n",
       "      <td>426.3</td>\n",
       "      <td>3000.0</td>\n",
       "    </tr>\n",
       "    <tr>\n",
       "      <th>210</th>\n",
       "      <td>4760.0</td>\n",
       "      <td>55.0</td>\n",
       "      <td>1.93</td>\n",
       "      <td>0.0</td>\n",
       "      <td>19.0</td>\n",
       "      <td>1.29</td>\n",
       "      <td>7.81</td>\n",
       "      <td>0.56</td>\n",
       "      <td>377.0</td>\n",
       "      <td>333.2</td>\n",
       "      <td>2.0</td>\n",
       "      <td>257000.0</td>\n",
       "      <td>81400.0</td>\n",
       "      <td>4060.0</td>\n",
       "      <td>904.4</td>\n",
       "      <td>1904.0</td>\n",
       "      <td>9710.0</td>\n",
       "    </tr>\n",
       "  </tbody>\n",
       "</table>\n",
       "<p>211 rows × 17 columns</p>\n",
       "</div>"
      ],
      "text/plain": [
       "     7520.00    52.00      1.27       0.00       26.00      1.66       \\\n",
       "0       8810.0       48.0       1.21        0.0       17.0       1.60   \n",
       "1      15290.0       72.0       2.10        0.0       21.0       0.76   \n",
       "2      37560.0       68.0       7.12        0.0       11.0       0.39   \n",
       "3       7060.0       48.0       3.20        1.0       23.0       2.84   \n",
       "4       6460.0       35.0       6.00        0.0       19.0       3.48   \n",
       "..         ...        ...        ...        ...        ...        ...   \n",
       "206    11060.0       52.0       2.40        0.0       23.0       3.41   \n",
       "207     7970.0       62.0       1.70        1.0       21.0       0.67   \n",
       "208    14490.0       81.0       2.30        0.0       20.0       4.20   \n",
       "209     1470.0       57.0       5.20        1.0       37.0       0.65   \n",
       "210     4760.0       55.0       1.93        0.0       19.0       1.29   \n",
       "\n",
       "     9.70       0.71       299.00     376.00     0.00       212000.00  \\\n",
       "0         7.44       0.47      256.0      528.6        2.0   214000.0   \n",
       "1       517.00       0.30      300.0      764.5        0.0   154000.0   \n",
       "2         6.42       0.19      308.0      751.2        0.0   147000.0   \n",
       "3        12.80       0.79      471.0      917.8        3.0   136000.0   \n",
       "4        12.80       0.88      450.0      532.0        0.0   165000.0   \n",
       "..         ...        ...        ...        ...        ...        ...   \n",
       "206      12.50       1.65      291.0      518.4        2.0   171000.0   \n",
       "207       5.59       0.44      280.0      398.5        3.0   150000.0   \n",
       "208      10.30       0.45      309.0     1159.2        0.0   204000.0   \n",
       "209      18.30       0.69      289.0      161.7        3.0   319000.0   \n",
       "210       7.81       0.56      377.0      333.2        2.0   257000.0   \n",
       "\n",
       "     110000.00  4020.00    526.40     1729.60    12620.00   \n",
       "0      57500.0     3130.0      792.9     1497.7    12580.0  \n",
       "1      11020.0     6550.0      764.5     1223.2    22580.0  \n",
       "2      46700.0     5860.0     2253.6     2629.2    47280.0  \n",
       "3      47400.0     4820.0      564.8     1765.0    13500.0  \n",
       "4      88800.0     3670.0     1098.2     1615.0    11200.0  \n",
       "..         ...        ...        ...        ...        ...  \n",
       "206    78500.0     5710.0     1769.6     3207.4    18470.0  \n",
       "207    48300.0     2550.0      159.4      557.9    11450.0  \n",
       "208    60100.0     4550.0      869.4     2173.5    20510.0  \n",
       "209    70200.0     1160.0      235.2      426.3     3000.0  \n",
       "210    81400.0     4060.0      904.4     1904.0     9710.0  \n",
       "\n",
       "[211 rows x 17 columns]"
      ]
     },
     "execution_count": 32,
     "metadata": {},
     "output_type": "execute_result"
    }
   ],
   "source": [
    "from sklearn.feature_selection import SelectPercentile, chi2\n",
    "X_train.shape\n",
    "X_new = SelectPercentile(chi2, percentile=50).fit_transform(X_train, y_train)\n",
    "pd.DataFrame(data=X_new[1:,1:],columns=X_new[0,1:])"
   ]
  },
  {
   "cell_type": "code",
   "execution_count": 33,
   "metadata": {},
   "outputs": [],
   "source": [
    "#cols = ['GPT','IgA','B2M','GOT','IgM','NLymph ','IgG','LDH ','RET','SNC','T8C','TLC','ALC','PLT','WBC',' MBC','NCC']\n",
    "\n",
    "cols = ['WBC','ALC',' MBC','PLT']\n",
    "#cols = [' MBC', 'ALC', 'BU', 'CR', 'PLT', 'RET', 'T8C', 'WB C']\n",
    "#cols = [' HGB ', ' MBC', 'AGE', 'ALC', 'BU', 'CD38 ', 'COOMBS', 'CR', 'GOT', 'IgA', 'LDH ', 'NCC', 'PLT', 'RET', 'SNC', 'T8C', 'WBC']\n",
    "X_c=X_train[cols]\n",
    "X_t= X_test[cols]"
   ]
  },
  {
   "cell_type": "markdown",
   "metadata": {},
   "source": [
    "# Support Vector Machine"
   ]
  },
  {
   "cell_type": "code",
   "execution_count": 40,
   "metadata": {},
   "outputs": [
    {
     "data": {
      "text/plain": [
       "SVC(C=1.0, break_ties=False, cache_size=200, class_weight=None, coef0=0.0,\n",
       "    decision_function_shape='ovr', degree=3, gamma='scale', kernel='rbf',\n",
       "    max_iter=-1, probability=True, random_state=None, shrinking=True, tol=0.001,\n",
       "    verbose=False)"
      ]
     },
     "execution_count": 40,
     "metadata": {},
     "output_type": "execute_result"
    }
   ],
   "source": [
    "from sklearn import svm\n",
    "clf = svm.SVC(probability=True)\n",
    "clf.fit(X_c, y_train)"
   ]
  },
  {
   "cell_type": "code",
   "execution_count": 41,
   "metadata": {},
   "outputs": [
    {
     "name": "stdout",
     "output_type": "stream",
     "text": [
      "[0.26868724 0.23769885 0.40558617 0.2537387  0.23789444 0.24796952\n",
      " 0.40765035 0.25236452 0.23537663 0.24535922 0.25815654 0.28436646\n",
      " 0.27599282 0.31762481 0.24279185 0.24974097 0.25341457 0.25528795\n",
      " 0.29255697 0.40167224 0.25774924 0.29116708 0.28883485 0.25350226\n",
      " 0.27728473 0.23706926 0.26584479 0.24326636 0.2547659  0.25605118\n",
      " 0.24285399 0.24104969 0.24588114 0.24975954 0.27760091 0.25381827\n",
      " 0.25257266 0.25654993 0.26170601 0.29023219 0.23635731 0.26464138\n",
      " 0.23744671 0.9321437  0.34081994 0.24551032 0.25845759 0.24644306\n",
      " 0.23981955 0.90427552 0.25005936 0.28225145 0.27225177]\n"
     ]
    }
   ],
   "source": [
    "y_pre = clf.predict_proba(X_t)\n",
    "y_pre = y_pre[:, 1]\n",
    "print(y_pre)"
   ]
  },
  {
   "cell_type": "markdown",
   "metadata": {},
   "source": [
    "# ROC-AUC curve for SVM"
   ]
  },
  {
   "cell_type": "code",
   "execution_count": 43,
   "metadata": {},
   "outputs": [],
   "source": [
    "def ROC():\n",
    "        import matplotlib.pyplot as plt\n",
    " \n",
    "        %matplotlib inline\n",
    "        plt.rcParams['figure.figsize'] = (8, 6)\n",
    "        plt.rcParams['font.size'] = 14\n",
    "        \n",
    "        # plot ROC curve\n",
    " \n",
    "        fpr, tpr, thresholds = roc_curve(y_test, y_pre)\n",
    "        \n",
    "        roc_auc = auc(fpr, tpr)\n",
    "        lr_precision, lr_recall, _ = precision_recall_curve(y_test, y_pre)\n",
    "        \n",
    "        # method I: plt\n",
    "\n",
    "        plt.title('Decision Variables ROC')\n",
    "        plt.plot(fpr, tpr, 'b', label='AUC = %0.2f' % roc_auc)\n",
    "        plt.legend(loc='lower right')\n",
    "        plt.plot([0, 1], [0, 1], 'r--')\n",
    "        plt.xlim([0, 1])\n",
    "        plt.ylim([0, 1])\n",
    "        plt.ylabel('True Positive Rate')\n",
    "        plt.xlabel('False Positive Rate')\n",
    "        plt.legend()\n",
    "        # show the plot\n",
    "        plt.show()\n",
    "        \n",
    "        no_skill = len(y_test[y_test==1]) / len(y_test)\n",
    "        plt.plot([0, 1], [no_skill, no_skill], linestyle='--', label='No Skill')\n",
    "        plt.plot(lr_recall, lr_precision, marker='.', label='SVM')\n",
    "        # axis labels\n",
    "        plt.xlabel('Recall')\n",
    "        plt.ylabel('Precision')\n",
    "        # show the legend\n",
    "        plt.legend()\n",
    "        # show the plot\n",
    "        plt.show()"
   ]
  },
  {
   "cell_type": "code",
   "execution_count": 44,
   "metadata": {},
   "outputs": [
    {
     "data": {
      "image/png": "[encoded data removed]",
      "text/plain": [
       "<Figure size 576x432 with 1 Axes>"
      ]
     },
     "metadata": {
      "needs_background": "light"
     },
     "output_type": "display_data"
    },
    {
     "data": {
      "image/png": "[encoded data removed]",
      "text/plain": [
       "<Figure size 576x432 with 1 Axes>"
      ]
     },
     "metadata": {
      "needs_background": "light"
     },
     "output_type": "display_data"
    }
   ],
   "source": [
    "ROC() #first call for SVM "
   ]
  },
  {
   "cell_type": "code",
   "execution_count": 53,
   "metadata": {},
   "outputs": [
    {
     "name": "stdout",
     "output_type": "stream",
     "text": [
      "              precision    recall  f1-score   support\n",
      "\n",
      "         0.0       0.82      1.00      0.90        42\n",
      "         1.0       1.00      0.18      0.31        11\n",
      "\n",
      "    accuracy                           0.83        53\n",
      "   macro avg       0.91      0.59      0.61        53\n",
      "weighted avg       0.86      0.83      0.78        53\n",
      "\n"
     ]
    }
   ],
   "source": [
    "from sklearn.metrics import classification_report\n",
    "print(classification_report(y_test, y_pre))"
   ]
  },
  {
   "cell_type": "code",
   "execution_count": 54,
   "metadata": {},
   "outputs": [
    {
     "name": "stdout",
     "output_type": "stream",
     "text": [
      "[[42  0]\n",
      " [ 9  2]]\n",
      "[1.         0.18181818]\n"
     ]
    }
   ],
   "source": [
    "\n",
    "matrix = confusion_matrix(y_test, y_pre)\n",
    "print(matrix)\n",
    "print(matrix.diagonal()/matrix.sum(axis=1))"
   ]
  },
  {
   "cell_type": "code",
   "execution_count": null,
   "metadata": {},
   "outputs": [],
   "source": [
    "#print confusion matrix for SVM\n",
    "\n",
    "\n",
    "# labels = ['0: NO CT', '1: CT']\n",
    "# matrix = confusion_matrix(y_test, y_pre)\n",
    "# print(matrix)\n",
    "# fig = plt.figure()\n",
    "# ax = fig.add_subplot(111)\n",
    "# cax = ax.matshow(matrix)\n",
    "\n",
    "# fig.colorbar(cax)\n",
    "# ax.set_xticklabels([''] + labels)\n",
    "# ax.set_yticklabels([''] + labels)\n",
    "# plt.xlabel('Predicted')\n",
    "# plt.ylabel('True')\n",
    "# plt.show()"
   ]
  },
  {
   "cell_type": "markdown",
   "metadata": {},
   "source": [
    "# Random Forest"
   ]
  },
  {
   "cell_type": "code",
   "execution_count": 55,
   "metadata": {},
   "outputs": [
    {
     "name": "stderr",
     "output_type": "stream",
     "text": [
      "[Parallel(n_jobs=-1)]: Using backend ThreadingBackend with 12 concurrent workers.\n",
      "[Parallel(n_jobs=-1)]: Done  26 tasks      | elapsed:    0.0s\n",
      "[Parallel(n_jobs=-1)]: Done 100 out of 100 | elapsed:    0.0s finished\n",
      "[Parallel(n_jobs=12)]: Using backend ThreadingBackend with 12 concurrent workers.\n",
      "[Parallel(n_jobs=12)]: Done  26 tasks      | elapsed:    0.0s\n",
      "[Parallel(n_jobs=12)]: Done 100 out of 100 | elapsed:    0.0s finished\n"
     ]
    }
   ],
   "source": [
    "from sklearn.ensemble import RandomForestClassifier\n",
    "\n",
    "cols = [' HGB ', ' MBC', 'AGE', 'ALC', 'BU', 'CD38 ', 'COOMBS', 'CR', 'GOT', 'IgA', 'LDH ', 'NCC', 'PLT', 'RET', 'SNC', 'T8C', 'WBC']\n",
    "#cols = [' HGB ', ' MBC', 'AGE', 'ALC', 'BU', 'CD38 ', 'COOMBS', 'CR', 'GOT', 'IgA', 'LDH ', 'NCC', 'PLT', 'RET', 'SNC', 'T8C', 'WBC']\n",
    "X_c_f=X_train[cols]\n",
    "X_t= X_test[cols]\n",
    "clf=RandomForestClassifier(n_estimators=100,min_samples_split = 72,\n",
    "                                n_jobs = -1, verbose = 1)\n",
    "\n",
    "#Train the model using the training sets y_pred=clf.predict(X_test)\n",
    "clf.fit(X_c_f,y_train)\n",
    "\n",
    "y_predt=clf.predict(X_t)"
   ]
  },
  {
   "cell_type": "code",
   "execution_count": 56,
   "metadata": {},
   "outputs": [
    {
     "name": "stdout",
     "output_type": "stream",
     "text": [
      "Accuracy: 0.7735849056603774\n"
     ]
    }
   ],
   "source": [
    "from sklearn import metrics\n",
    "# Model Accuracy, how often is the classifier correct?\n",
    "print(\"Accuracy:\",metrics.accuracy_score(y_test, y_predt))"
   ]
  },
  {
   "cell_type": "code",
   "execution_count": 57,
   "metadata": {},
   "outputs": [
    {
     "name": "stdout",
     "output_type": "stream",
     "text": [
      "              precision    recall  f1-score   support\n",
      "\n",
      "         0.0       0.84      0.88      0.86        42\n",
      "         1.0       0.44      0.36      0.40        11\n",
      "\n",
      "    accuracy                           0.77        53\n",
      "   macro avg       0.64      0.62      0.63        53\n",
      "weighted avg       0.76      0.77      0.76        53\n",
      "\n"
     ]
    }
   ],
   "source": [
    "from sklearn.metrics import classification_report\n",
    "print(classification_report(y_test, y_predt))"
   ]
  },
  {
   "cell_type": "code",
   "execution_count": 58,
   "metadata": {},
   "outputs": [
    {
     "name": "stdout",
     "output_type": "stream",
     "text": [
      "[0.88095238 0.36363636]\n"
     ]
    }
   ],
   "source": [
    "from sklearn.metrics import confusion_matrix\n",
    "matrix = confusion_matrix(y_test, y_predt)\n",
    "\n",
    "print(matrix.diagonal()/matrix.sum(axis=1))"
   ]
  },
  {
   "cell_type": "code",
   "execution_count": 59,
   "metadata": {},
   "outputs": [
    {
     "data": {
      "text/plain": [
       "array([[37,  5],\n",
       "       [ 7,  4]], dtype=int64)"
      ]
     },
     "execution_count": 59,
     "metadata": {},
     "output_type": "execute_result"
    }
   ],
   "source": [
    "matrix"
   ]
  },
  {
   "cell_type": "code",
   "execution_count": 60,
   "metadata": {},
   "outputs": [
    {
     "name": "stdout",
     "output_type": "stream",
     "text": [
      "[[37  5]\n",
      " [ 7  4]]\n"
     ]
    },
    {
     "data": {
      "image/png": "[encoded data removed]",
      "text/plain": [
       "<Figure size 576x432 with 2 Axes>"
      ]
     },
     "metadata": {
      "needs_background": "light"
     },
     "output_type": "display_data"
    }
   ],
   "source": [
    "labels = ['0: NO CT', '1: CT']\n",
    "matrix = confusion_matrix(y_test, y_predt)\n",
    "\n",
    "fig = plt.figure()\n",
    "ax = fig.add_subplot(111)\n",
    "cax = ax.matshow(matrix)\n",
    "print(matrix)\n",
    "fig.colorbar(cax)\n",
    "ax.set_xticklabels([''] + labels)\n",
    "ax.set_yticklabels([''] + labels)\n",
    "plt.xlabel('Predicted')\n",
    "plt.ylabel('True')\n",
    "plt.show()"
   ]
  },
  {
   "cell_type": "markdown",
   "metadata": {},
   "source": [
    "# ROC-AUC Curve for RandomForest"
   ]
  },
  {
   "cell_type": "code",
   "execution_count": 61,
   "metadata": {},
   "outputs": [],
   "source": [
    "def ROC():\n",
    "        import matplotlib.pyplot as plt\n",
    " \n",
    "        %matplotlib inline\n",
    "        plt.rcParams['figure.figsize'] = (8, 6)\n",
    "        plt.rcParams['font.size'] = 14\n",
    "        \n",
    "        # plot ROC curve\n",
    " \n",
    "        fpr, tpr, thresholds = roc_curve(y_test, y_pre)\n",
    "        \n",
    "        roc_auc = auc(fpr, tpr)\n",
    "        lr_precision, lr_recall, _ = precision_recall_curve(y_test, y_pre)\n",
    "        \n",
    "        # method I: plt\n",
    "\n",
    "        plt.title('Decision Variables ROC')\n",
    "        plt.plot(fpr, tpr, 'b', label='AUC = %0.2f' % roc_auc)\n",
    "        plt.legend(loc='lower right')\n",
    "        plt.plot([0, 1], [0, 1], 'r--')\n",
    "        plt.xlim([0, 1])\n",
    "        plt.ylim([0, 1])\n",
    "        plt.ylabel('True Positive Rate')\n",
    "        plt.xlabel('False Positive Rate')\n",
    "        plt.legend()\n",
    "        # show the plot\n",
    "        plt.show()\n",
    "        \n",
    "        no_skill = len(y_test[y_test==1]) / len(y_test)\n",
    "        plt.plot([0, 1], [no_skill, no_skill], linestyle='--', label='No Skill')\n",
    "        plt.plot(lr_recall, lr_precision, marker='.', label='SVM')\n",
    "        # axis labels\n",
    "        plt.xlabel('Recall')\n",
    "        plt.ylabel('Precision')\n",
    "        # show the legend\n",
    "        plt.legend()\n",
    "        # show the plot\n",
    "        plt.show()"
   ]
  },
  {
   "cell_type": "code",
   "execution_count": 62,
   "metadata": {},
   "outputs": [
    {
     "data": {
      "image/png": "[encoded data removed]",
      "text/plain": [
       "<Figure size 576x432 with 1 Axes>"
      ]
     },
     "metadata": {
      "needs_background": "light"
     },
     "output_type": "display_data"
    },
    {
     "data": {
      "image/png": "[encoded data removed]",
      "text/plain": [
       "<Figure size 576x432 with 1 Axes>"
      ]
     },
     "metadata": {
      "needs_background": "light"
     },
     "output_type": "display_data"
    }
   ],
   "source": [
    "ROC()"
   ]
  },
  {
   "cell_type": "code",
   "execution_count": 63,
   "metadata": {},
   "outputs": [
    {
     "name": "stderr",
     "output_type": "stream",
     "text": [
      "C:\\Users\\installations\\lib\\site-packages\\statsmodels\\compat\\pandas.py:23: FutureWarning: The Panel class is removed from pandas. Accessing it from the top-level namespace will also be removed in the next version\n",
      "  data_klasses = (pandas.Series, pandas.DataFrame, pandas.Panel)\n"
     ]
    },
    {
     "data": {
      "text/plain": [
       "const      9.943770e-01\n",
       " HGB       9.968979e-01\n",
       " MBC       8.715112e-01\n",
       "AGE        9.940056e-01\n",
       "ALB        9.973550e-01\n",
       "ALC        9.521062e-01\n",
       "ALP        9.931060e-01\n",
       "B2M        9.918032e-01\n",
       "BU         9.970968e-01\n",
       "CD38       9.982687e-01\n",
       "COOMBS     9.984438e-01\n",
       "CR         9.990717e-01\n",
       "Ctx_tgt    0.000000e+00\n",
       "GOT        9.996265e-01\n",
       "GPT        9.979661e-01\n",
       "IgA        9.977736e-01\n",
       "IgG        9.957764e-01\n",
       "IgM        9.999942e-01\n",
       "K          9.998303e-01\n",
       "LD         9.999823e-01\n",
       "LDH        9.984768e-01\n",
       "MCV        9.914486e-01\n",
       "MOR        9.991654e-01\n",
       "MP         9.994036e-01\n",
       "NA         9.998592e-01\n",
       "NCC        9.548661e-01\n",
       "NLymph     9.935172e-01\n",
       "PLT        1.968433e-07\n",
       "RET        1.536669e-01\n",
       "SEX        9.989338e-01\n",
       "SMG        9.993643e-01\n",
       "SNC        9.500403e-01\n",
       "T8C        9.887254e-01\n",
       "TLC        9.718997e-01\n",
       "UA         9.985695e-01\n",
       "UR         9.987402e-01\n",
       "WBC        8.547707e-01\n",
       "ZAP_70     9.975671e-01\n",
       "dtype: float64"
      ]
     },
     "execution_count": 63,
     "metadata": {},
     "output_type": "execute_result"
    }
   ],
   "source": [
    "import statsmodels.api as sm\n",
    "\n",
    "X_1 = sm.add_constant(X)\n",
    "#Fitting sm.OLS model\n",
    "model = sm.OLS(Y,X_1).fit()\n",
    "model.pvalues\n"
   ]
  },
  {
   "cell_type": "code",
   "execution_count": 64,
   "metadata": {},
   "outputs": [
    {
     "name": "stdout",
     "output_type": "stream",
     "text": [
      "[' HGB ', ' MBC', 'AGE', 'ALC', 'BU', 'CD38 ', 'COOMBS', 'CR', 'Ctx_tgt', 'GOT', 'IgA', 'LDH ', 'NCC', 'PLT', 'RET', 'SNC', 'T8C', 'WBC']\n"
     ]
    }
   ],
   "source": [
    "cols = list(X.columns)\n",
    "pmax = 1\n",
    "while (len(cols)>0):\n",
    "    p= []\n",
    "    X_1 = X[cols]\n",
    "    X_1 = sm.add_constant(X_1)\n",
    "    model = sm.OLS(Y,X_1).fit()\n",
    "    p = pd.Series(model.pvalues.values[1:],index = cols)      \n",
    "    pmax = max(p)\n",
    "    feature_with_p_max = p.idxmax()\n",
    "    if(pmax>0.9):\n",
    "        cols.remove(feature_with_p_max)\n",
    "    else:\n",
    "        break\n",
    "selected_features_BE = cols\n",
    "print(selected_features_BE)"
   ]
  },
  {
   "cell_type": "code",
   "execution_count": 65,
   "metadata": {},
   "outputs": [],
   "source": [
    "from sklearn.tree import DecisionTreeClassifier \n",
    "clf = DecisionTreeClassifier(criterion=\"entropy\")\n",
    "clf = clf.fit(X_c_f,y_train)"
   ]
  },
  {
   "cell_type": "code",
   "execution_count": 66,
   "metadata": {},
   "outputs": [],
   "source": [
    "y_pred=clf.predict(X_t)"
   ]
  },
  {
   "cell_type": "code",
   "execution_count": 67,
   "metadata": {},
   "outputs": [
    {
     "data": {
      "text/plain": [
       "0.660377358490566"
      ]
     },
     "execution_count": 67,
     "metadata": {},
     "output_type": "execute_result"
    }
   ],
   "source": [
    "from sklearn.metrics import accuracy_score\n",
    "accuracy_score(y_test, y_pred)\n",
    "# # Model Accuracy, how often is the classifier correct?\n",
    "# print(\"Accuracy:\",metrics.accuracy_score(y_test, y_pred))"
   ]
  },
  {
   "cell_type": "code",
   "execution_count": 68,
   "metadata": {},
   "outputs": [],
   "source": [
    "matrix = confusion_matrix(y_test, y_pred)"
   ]
  },
  {
   "cell_type": "code",
   "execution_count": 69,
   "metadata": {},
   "outputs": [
    {
     "name": "stdout",
     "output_type": "stream",
     "text": [
      "[[32 10]\n",
      " [ 8  3]]\n"
     ]
    },
    {
     "data": {
      "image/png": "[encoded data removed]",
      "text/plain": [
       "<Figure size 576x432 with 2 Axes>"
      ]
     },
     "metadata": {
      "needs_background": "light"
     },
     "output_type": "display_data"
    }
   ],
   "source": [
    "labels = ['0: NO CT', '1: CT']\n",
    "print(matrix)\n",
    "fig = plt.figure()\n",
    "ax = fig.add_subplot(111)\n",
    "cax = ax.matshow(matrix)\n",
    "fig.colorbar(cax)\n",
    "ax.set_xticklabels([''] + labels)\n",
    "ax.set_yticklabels([''] + labels)\n",
    "plt.xlabel('Predicted')\n",
    "plt.ylabel('True')\n",
    "plt.show()"
   ]
  },
  {
   "cell_type": "code",
   "execution_count": 70,
   "metadata": {},
   "outputs": [],
   "source": [
    "def ROC():\n",
    "        import matplotlib.pyplot as plt\n",
    " \n",
    "        %matplotlib inline\n",
    "        plt.rcParams['figure.figsize'] = (8, 6)\n",
    "        plt.rcParams['font.size'] = 14\n",
    "        \n",
    "        # plot ROC curve\n",
    " \n",
    "        fpr, tpr, thresholds = roc_curve(y_test, y_pre)\n",
    "        \n",
    "        roc_auc = auc(fpr, tpr)\n",
    "        lr_precision, lr_recall, _ = precision_recall_curve(y_test, y_pre)\n",
    "        \n",
    "        # method I: plt\n",
    "\n",
    "        plt.title('Decision Variables ROC')\n",
    "        plt.plot(fpr, tpr, 'b', label='AUC = %0.2f' % roc_auc)\n",
    "        plt.legend(loc='lower right')\n",
    "        plt.plot([0, 1], [0, 1], 'r--')\n",
    "        plt.xlim([0, 1])\n",
    "        plt.ylim([0, 1])\n",
    "        plt.ylabel('True Positive Rate')\n",
    "        plt.xlabel('False Positive Rate')\n",
    "        plt.legend()\n",
    "        # show the plot\n",
    "        plt.show()\n",
    "        \n",
    "        no_skill = len(y_test[y_test==1]) / len(y_test)\n",
    "        plt.plot([0, 1], [no_skill, no_skill], linestyle='--', label='No Skill')\n",
    "        plt.plot(lr_recall, lr_precision, marker='.', label='Decision Tree')\n",
    "        # axis labels\n",
    "        plt.xlabel('Recall')\n",
    "        plt.ylabel('Precision')\n",
    "        # show the legend\n",
    "        plt.legend()\n",
    "        # show the plot\n",
    "        plt.show()"
   ]
  },
  {
   "cell_type": "code",
   "execution_count": 71,
   "metadata": {},
   "outputs": [
    {
     "data": {
      "image/png": "[encoded data removed]",
      "text/plain": [
       "<Figure size 576x432 with 1 Axes>"
      ]
     },
     "metadata": {
      "needs_background": "light"
     },
     "output_type": "display_data"
    },
    {
     "data": {
      "image/png": "[encoded data removed]",
      "text/plain": [
       "<Figure size 576x432 with 1 Axes>"
      ]
     },
     "metadata": {
      "needs_background": "light"
     },
     "output_type": "display_data"
    }
   ],
   "source": [
    "ROC()"
   ]
  },
  {
   "cell_type": "markdown",
   "metadata": {},
   "source": [
    "# Naive Bayes"
   ]
  },
  {
   "cell_type": "code",
   "execution_count": 72,
   "metadata": {},
   "outputs": [
    {
     "name": "stdout",
     "output_type": "stream",
     "text": [
      "Accuracy: 0.7547169811320755\n"
     ]
    }
   ],
   "source": [
    "from sklearn.naive_bayes import GaussianNB\n",
    "\n",
    "gnb = GaussianNB()\n",
    "\n",
    "gnb.fit(X_c_f, y_train)\n",
    "\n",
    "y_pred = gnb.predict(X_t)\n",
    "\n",
    "print(\"Accuracy:\",metrics.accuracy_score(y_test, y_pred))"
   ]
  },
  {
   "cell_type": "code",
   "execution_count": 73,
   "metadata": {},
   "outputs": [
    {
     "data": {
      "text/plain": [
       "array([0., 0., 1., 0., 0., 0., 0., 0., 0., 0., 0., 0., 1., 0., 0., 0., 0.,\n",
       "       0., 0., 0., 0., 1., 1., 0., 0., 0., 0., 0., 0., 0., 0., 0., 0., 0.,\n",
       "       0., 0., 0., 0., 0., 1., 0., 0., 0., 1., 1., 0., 0., 0., 0., 1., 0.,\n",
       "       0., 0.])"
      ]
     },
     "execution_count": 73,
     "metadata": {},
     "output_type": "execute_result"
    }
   ],
   "source": [
    "y_pred"
   ]
  },
  {
   "cell_type": "code",
   "execution_count": 74,
   "metadata": {},
   "outputs": [
    {
     "name": "stdout",
     "output_type": "stream",
     "text": [
      "[[37  5]\n",
      " [ 8  3]]\n"
     ]
    },
    {
     "data": {
      "image/png": "[encoded data removed]",
      "text/plain": [
       "<Figure size 576x432 with 2 Axes>"
      ]
     },
     "metadata": {
      "needs_background": "light"
     },
     "output_type": "display_data"
    }
   ],
   "source": [
    "labels = ['0: NO CT', '1: CT']\n",
    "matrix = confusion_matrix(y_test, y_pred)\n",
    "\n",
    "fig = plt.figure()\n",
    "ax = fig.add_subplot(111)\n",
    "cax = ax.matshow(matrix)\n",
    "print(matrix)\n",
    "fig.colorbar(cax)\n",
    "ax.set_xticklabels([''] + labels)\n",
    "ax.set_yticklabels([''] + labels)\n",
    "plt.xlabel('Predicted')\n",
    "plt.ylabel('True')\n",
    "plt.show()"
   ]
  },
  {
   "cell_type": "code",
   "execution_count": 75,
   "metadata": {},
   "outputs": [],
   "source": [
    "def ROC():\n",
    "        import matplotlib.pyplot as plt\n",
    "        from sklearn.metrics import roc_curve\n",
    "        from sklearn.metrics import auc\n",
    "        %matplotlib inline\n",
    "        plt.rcParams['figure.figsize'] = (8, 6)\n",
    "        plt.rcParams['font.size'] = 14\n",
    "        \n",
    "        # plot ROC curve\n",
    " \n",
    "        fpr, tpr, thresholds = roc_curve(y_test, y_predt)\n",
    "        roc_auc = auc(fpr, tpr)\n",
    "        lr_precision, lr_recall, _ = precision_recall_curve(y_test, y_predt)\n",
    "    \n",
    "        # method I: plt\n",
    "\n",
    "        plt.title('Decision Variables ROC')\n",
    "        plt.plot(fpr, tpr, 'b', label='AUC = %0.2f' % roc_auc)\n",
    "        plt.legend(loc='lower right')\n",
    "        plt.plot([0, 1], [0, 1], 'r--')\n",
    "        plt.xlim([0, 1])\n",
    "        plt.ylim([0, 1])\n",
    "        plt.ylabel('True Positive Rate')\n",
    "        plt.xlabel('False Positive Rate')\n",
    "        plt.legend()\n",
    "        # show the plot\n",
    "        plt.show()\n",
    "        \n",
    "        no_skill = len(y_test[y_test==1]) / len(y_test)\n",
    "        plt.plot([0, 1], [no_skill, no_skill], linestyle='--', label='No Skill')\n",
    "        plt.plot(lr_recall, lr_precision, marker='.', label='Naive Bayes')\n",
    "        # axis labels\n",
    "        plt.xlabel('Recall')\n",
    "        plt.ylabel('Precision')\n",
    "        # show the legend\n",
    "        plt.legend()\n",
    "        # show the plot\n",
    "        plt.show()"
   ]
  },
  {
   "cell_type": "code",
   "execution_count": 76,
   "metadata": {},
   "outputs": [
    {
     "data": {
      "image/png": "[encoded data removed]",
      "text/plain": [
       "<Figure size 576x432 with 1 Axes>"
      ]
     },
     "metadata": {
      "needs_background": "light"
     },
     "output_type": "display_data"
    },
    {
     "data": {
      "image/png": "[encoded data removed]",
      "text/plain": [
       "<Figure size 576x432 with 1 Axes>"
      ]
     },
     "metadata": {
      "needs_background": "light"
     },
     "output_type": "display_data"
    }
   ],
   "source": [
    "ROC()"
   ]
  },
  {
   "cell_type": "code",
   "execution_count": 77,
   "metadata": {},
   "outputs": [],
   "source": [
    "import xgboost as xgb\n",
    "D_train = xgb.DMatrix(X_c_f, label = y_train)\n",
    "D_test = xgb.DMatrix(X_t, label = y_test)"
   ]
  },
  {
   "cell_type": "code",
   "execution_count": 66,
   "metadata": {},
   "outputs": [],
   "source": [
    "param = {\n",
    "    'eta': 0.3, \n",
    "    'max_depth': 3,  \n",
    "    'objective': 'multi:softprob',  \n",
    "    'num_class': 3} \n",
    "steps = 100"
   ]
  },
  {
   "cell_type": "code",
   "execution_count": 67,
   "metadata": {},
   "outputs": [],
   "source": [
    "model = xgb.train(param, D_train,steps)"
   ]
  },
  {
   "cell_type": "code",
   "execution_count": 68,
   "metadata": {},
   "outputs": [
    {
     "name": "stdout",
     "output_type": "stream",
     "text": [
      "Precision = 0.7166666666666667\n",
      "Recall = 0.6125541125541125\n",
      "Accuracy = 0.8113207547169812\n"
     ]
    }
   ],
   "source": [
    "from sklearn.metrics import precision_score, recall_score, accuracy_score\n",
    "\n",
    "preds = model.predict(D_test)\n",
    "best_preds = np.asarray([np.argmax(line) for line in preds])\n",
    "\n",
    "print(\"Precision = {}\".format(precision_score(y_test, best_preds, average='macro')))\n",
    "print(\"Recall = {}\".format(recall_score(y_test, best_preds, average='macro')))\n",
    "print(\"Accuracy = {}\".format(accuracy_score(y_test, best_preds)))"
   ]
  },
  {
   "cell_type": "code",
   "execution_count": 69,
   "metadata": {},
   "outputs": [
    {
     "name": "stdout",
     "output_type": "stream",
     "text": [
      "[[40  2]\n",
      " [ 8  3]]\n"
     ]
    },
    {
     "data": {
      "image/png": "[encoded data removed]",
      "text/plain": [
       "<Figure size 576x432 with 2 Axes>"
      ]
     },
     "metadata": {
      "needs_background": "light"
     },
     "output_type": "display_data"
    }
   ],
   "source": [
    "#print confusion matrix\n",
    "\n",
    "labels = ['0: NO CT', '1: CT']\n",
    "matrix = confusion_matrix(y_test, best_preds)\n",
    "\n",
    "fig = plt.figure()\n",
    "ax = fig.add_subplot(111)\n",
    "cax = ax.matshow(matrix)\n",
    "print(matrix)\n",
    "fig.colorbar(cax)\n",
    "ax.set_xticklabels([''] + labels)\n",
    "ax.set_yticklabels([''] + labels)\n",
    "plt.xlabel('Predicted')\n",
    "plt.ylabel('True')\n",
    "plt.show()"
   ]
  },
  {
   "cell_type": "code",
   "execution_count": 71,
   "metadata": {},
   "outputs": [],
   "source": [
    "def ROC():\n",
    "        import matplotlib.pyplot as plt\n",
    "        from sklearn.metrics import roc_curve\n",
    "        from sklearn.metrics import auc\n",
    "        %matplotlib inline\n",
    "        plt.rcParams['figure.figsize'] = (8, 6)\n",
    "        plt.rcParams['font.size'] = 14\n",
    "        \n",
    "        # plot ROC curve\n",
    "        fpr, tpr, thresholds = roc_curve(y_test, y_predt)\n",
    "        roc_auc = auc(fpr, tpr)\n",
    "        lr_precision, lr_recall, _ = precision_recall_curve(y_test, y_predt)\n",
    "    \n",
    "        # method I: plt\n",
    "\n",
    "        plt.title('Decision Variables ROC')\n",
    "        plt.plot(fpr, tpr, 'b', label='AUC = %0.2f' % roc_auc)\n",
    "        plt.legend(loc='lower right')\n",
    "        plt.plot([0, 1], [0, 1], 'r--')\n",
    "        plt.xlim([0, 1])\n",
    "        plt.ylim([0, 1])\n",
    "        plt.ylabel('True Positive Rate')\n",
    "        plt.xlabel('False Positive Rate')\n",
    "        plt.legend()\n",
    "        # show the plot\n",
    "        plt.show()\n",
    "        \n",
    "        no_skill = len(y_test[y_test==1]) / len(y_test)\n",
    "        plt.plot([0, 1], [no_skill, no_skill], linestyle='--', label='No Skill')\n",
    "        plt.plot(lr_recall, lr_precision, marker='.', label='XGBoost')\n",
    "        # axis labels\n",
    "        plt.xlabel('Recall')\n",
    "        plt.ylabel('Precision')\n",
    "        # show the legend\n",
    "        plt.legend()\n",
    "        # show the plot\n",
    "        plt.show()"
   ]
  },
  {
   "cell_type": "code",
   "execution_count": 72,
   "metadata": {},
   "outputs": [
    {
     "data": {
      "image/png": "[encoded data removed]",
      "text/plain": [
       "<Figure size 576x432 with 1 Axes>"
      ]
     },
     "metadata": {
      "needs_background": "light"
     },
     "output_type": "display_data"
    },
    {
     "data": {
      "image/png": "[encoded data removed]",
      "text/plain": [
       "<Figure size 576x432 with 1 Axes>"
      ]
     },
     "metadata": {
      "needs_background": "light"
     },
     "output_type": "display_data"
    }
   ],
   "source": [
    "ROC()"
   ]
  },
  {
   "cell_type": "code",
   "execution_count": null,
   "metadata": {},
   "outputs": [],
   "source": [
    "all_data"
   ]
  },
  {
   "cell_type": "code",
   "execution_count": null,
   "metadata": {},
   "outputs": [],
   "source": []
  }
 ],
 "metadata": {
  "kernelspec": {
   "display_name": "Python 3",
   "language": "python",
   "name": "python3"
  },
  "language_info": {
   "codemirror_mode": {
    "name": "ipython",
    "version": 3
   },
   "file_extension": ".py",
   "mimetype": "text/x-python",
   "name": "python",
   "nbconvert_exporter": "python",
   "pygments_lexer": "ipython3",
   "version": "3.7.3"
  }
 },
 "nbformat": 4,
 "nbformat_minor": 4
}
